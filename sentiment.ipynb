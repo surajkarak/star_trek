{
 "cells": [
  {
   "cell_type": "code",
   "execution_count": 1,
   "metadata": {},
   "outputs": [],
   "source": [
    "import json\n",
    "import pandas as pd\n",
    "import re\n",
    "import numpy as np\n",
    "import matplotlib.pyplot as plt\n",
    "from nltk.sentiment.vader import SentimentIntensityAnalyzer\n",
    "plt.style.use('ggplot')"
   ]
  },
  {
   "attachments": {},
   "cell_type": "markdown",
   "metadata": {},
   "source": [
    "## Sentiment"
   ]
  },
  {
   "cell_type": "code",
   "execution_count": 2,
   "metadata": {},
   "outputs": [],
   "source": [
    "import nltk"
   ]
  },
  {
   "cell_type": "code",
   "execution_count": 3,
   "metadata": {},
   "outputs": [],
   "source": [
    "# Initialize sentiment analyzer\n",
    "sia = SentimentIntensityAnalyzer()"
   ]
  },
  {
   "cell_type": "code",
   "execution_count": 4,
   "metadata": {},
   "outputs": [],
   "source": [
    "characters_of_interest = ['SPOCK', 'KIRK', 'MCCOY']\n",
    "\n",
    "# Create dictionaries to store sentiment scores for each character and episode\n",
    "sentiment_scores = {char: {'episode': [], 'overall': []} for char in characters_of_interest}\n"
   ]
  },
  {
   "cell_type": "code",
   "execution_count": 5,
   "metadata": {},
   "outputs": [],
   "source": [
    "%store -r series_lines_by_character_df\n"
   ]
  },
  {
   "cell_type": "code",
   "execution_count": 6,
   "metadata": {},
   "outputs": [
    {
     "data": {
      "text/html": [
       "<div>\n",
       "<style scoped>\n",
       "    .dataframe tbody tr th:only-of-type {\n",
       "        vertical-align: middle;\n",
       "    }\n",
       "\n",
       "    .dataframe tbody tr th {\n",
       "        vertical-align: top;\n",
       "    }\n",
       "\n",
       "    .dataframe thead th {\n",
       "        text-align: right;\n",
       "    }\n",
       "</style>\n",
       "<table border=\"1\" class=\"dataframe\">\n",
       "  <thead>\n",
       "    <tr style=\"text-align: right;\">\n",
       "      <th></th>\n",
       "      <th>SPOCK</th>\n",
       "      <th>KIRK</th>\n",
       "      <th>MCCOY</th>\n",
       "    </tr>\n",
       "  </thead>\n",
       "  <tbody>\n",
       "    <tr>\n",
       "      <th>0</th>\n",
       "      <td>[Check the circuit., It can't be the screen th...</td>\n",
       "      <td>NaN</td>\n",
       "      <td>NaN</td>\n",
       "    </tr>\n",
       "    <tr>\n",
       "      <th>1</th>\n",
       "      <td>[Miss Uhura, your last sub-space log contained...</td>\n",
       "      <td>[Shall we pick some flowers, Doctor? When a ma...</td>\n",
       "      <td>[Is that how you get girls to like you, by bri...</td>\n",
       "    </tr>\n",
       "    <tr>\n",
       "      <th>2</th>\n",
       "      <td>[That is a very intriguing question. Scanners ...</td>\n",
       "      <td>[All right, Chief, begin materialisation.\\r Ca...</td>\n",
       "      <td>[Tell me. The ship's supply of food\\r concentr...</td>\n",
       "    </tr>\n",
       "    <tr>\n",
       "      <th>3</th>\n",
       "      <td>[Your move, Captain., I'll have you checkmated...</td>\n",
       "      <td>[We should have intercepted by now. The Bridge...</td>\n",
       "      <td>NaN</td>\n",
       "    </tr>\n",
       "    <tr>\n",
       "      <th>4</th>\n",
       "      <td>[Check out the life-support systems., Someone ...</td>\n",
       "      <td>[Kirk, affirmative., What caused it?, Captain ...</td>\n",
       "      <td>[You're fine, Joe. Up and out of there.\\r Mist...</td>\n",
       "    </tr>\n",
       "    <tr>\n",
       "      <th>...</th>\n",
       "      <td>...</td>\n",
       "      <td>...</td>\n",
       "      <td>...</td>\n",
       "    </tr>\n",
       "    <tr>\n",
       "      <th>75</th>\n",
       "      <td>[It is definitely the stolen space cruiser, Ca...</td>\n",
       "      <td>[Hailing frequencies. Aurora, this is the USS ...</td>\n",
       "      <td>[Trouble. Your friend here didn't want a check...</td>\n",
       "    </tr>\n",
       "    <tr>\n",
       "      <th>76</th>\n",
       "      <td>[It is, Captain., They've already been provide...</td>\n",
       "      <td>[At Federation orders, we're\\r proceeding at t...</td>\n",
       "      <td>[That may not be easy, Jim. Medical analysis i...</td>\n",
       "    </tr>\n",
       "    <tr>\n",
       "      <th>77</th>\n",
       "      <td>[I still read a suggestion of carbon cycle lif...</td>\n",
       "      <td>[Spock, any answers?, Which is scientifically ...</td>\n",
       "      <td>[What's all this poppycock about life forms on...</td>\n",
       "    </tr>\n",
       "    <tr>\n",
       "      <th>78</th>\n",
       "      <td>[The power source we detected is in this build...</td>\n",
       "      <td>[Any sign of survivors?, If they knew that the...</td>\n",
       "      <td>[How can a planet full of people just disappea...</td>\n",
       "    </tr>\n",
       "    <tr>\n",
       "      <th>79</th>\n",
       "      <td>[Captain. Tricorder picking up very faint life...</td>\n",
       "      <td>[What's wrong with her?, Janice, you must rema...</td>\n",
       "      <td>[What form of radiation was it?, Perhaps your ...</td>\n",
       "    </tr>\n",
       "  </tbody>\n",
       "</table>\n",
       "<p>80 rows × 3 columns</p>\n",
       "</div>"
      ],
      "text/plain": [
       "                                                SPOCK  \\\n",
       "0   [Check the circuit., It can't be the screen th...   \n",
       "1   [Miss Uhura, your last sub-space log contained...   \n",
       "2   [That is a very intriguing question. Scanners ...   \n",
       "3   [Your move, Captain., I'll have you checkmated...   \n",
       "4   [Check out the life-support systems., Someone ...   \n",
       "..                                                ...   \n",
       "75  [It is definitely the stolen space cruiser, Ca...   \n",
       "76  [It is, Captain., They've already been provide...   \n",
       "77  [I still read a suggestion of carbon cycle lif...   \n",
       "78  [The power source we detected is in this build...   \n",
       "79  [Captain. Tricorder picking up very faint life...   \n",
       "\n",
       "                                                 KIRK  \\\n",
       "0                                                 NaN   \n",
       "1   [Shall we pick some flowers, Doctor? When a ma...   \n",
       "2   [All right, Chief, begin materialisation.\\r Ca...   \n",
       "3   [We should have intercepted by now. The Bridge...   \n",
       "4   [Kirk, affirmative., What caused it?, Captain ...   \n",
       "..                                                ...   \n",
       "75  [Hailing frequencies. Aurora, this is the USS ...   \n",
       "76  [At Federation orders, we're\\r proceeding at t...   \n",
       "77  [Spock, any answers?, Which is scientifically ...   \n",
       "78  [Any sign of survivors?, If they knew that the...   \n",
       "79  [What's wrong with her?, Janice, you must rema...   \n",
       "\n",
       "                                                MCCOY  \n",
       "0                                                 NaN  \n",
       "1   [Is that how you get girls to like you, by bri...  \n",
       "2   [Tell me. The ship's supply of food\\r concentr...  \n",
       "3                                                 NaN  \n",
       "4   [You're fine, Joe. Up and out of there.\\r Mist...  \n",
       "..                                                ...  \n",
       "75  [Trouble. Your friend here didn't want a check...  \n",
       "76  [That may not be easy, Jim. Medical analysis i...  \n",
       "77  [What's all this poppycock about life forms on...  \n",
       "78  [How can a planet full of people just disappea...  \n",
       "79  [What form of radiation was it?, Perhaps your ...  \n",
       "\n",
       "[80 rows x 3 columns]"
      ]
     },
     "execution_count": 6,
     "metadata": {},
     "output_type": "execute_result"
    }
   ],
   "source": [
    "three_char = series_lines_by_character_df[characters_of_interest]\n",
    "filtered_episodes = three_char.dropna(how='all')\n",
    "filtered_episodes"
   ]
  },
  {
   "cell_type": "code",
   "execution_count": 7,
   "metadata": {},
   "outputs": [],
   "source": [
    "from nltk.tokenize import word_tokenize\n"
   ]
  },
  {
   "cell_type": "code",
   "execution_count": 8,
   "metadata": {},
   "outputs": [],
   "source": [
    "word_counts = {char: {'episode': []} for char in characters_of_interest}\n"
   ]
  },
  {
   "cell_type": "code",
   "execution_count": 9,
   "metadata": {},
   "outputs": [],
   "source": [
    "# Iterate through the characters of interest\n",
    "for char in characters_of_interest:\n",
    "    # Extract the lines spoken by the character and store them in a Series\n",
    "    character_lines = filtered_episodes[char].fillna(\"\").astype(str)  # Ensure lines are treated as strings\n",
    "    \n",
    "    # Perform sentiment analysis on the character's lines\n",
    "    sentiment_scores[char]['episode'] = character_lines.apply(lambda x: sia.polarity_scores(x)['compound'])\n",
    "    \n",
    "    # Tokenize the character's lines and calculate the number of words\n",
    "    word_counts[char]['episode'] = character_lines.apply(lambda x: len(word_tokenize(x)))\n",
    "\n",
    "# Convert sentiment_scores to a DataFrame for easy analysis and visualization\n",
    "sentiment_df = pd.DataFrame(sentiment_scores)\n",
    "\n",
    "# Display the sentiment analysis results\n",
    "# print(sentiment_df)"
   ]
  },
  {
   "cell_type": "code",
   "execution_count": 10,
   "metadata": {},
   "outputs": [
    {
     "data": {
      "text/html": [
       "<div>\n",
       "<style scoped>\n",
       "    .dataframe tbody tr th:only-of-type {\n",
       "        vertical-align: middle;\n",
       "    }\n",
       "\n",
       "    .dataframe tbody tr th {\n",
       "        vertical-align: top;\n",
       "    }\n",
       "\n",
       "    .dataframe thead th {\n",
       "        text-align: right;\n",
       "    }\n",
       "</style>\n",
       "<table border=\"1\" class=\"dataframe\">\n",
       "  <thead>\n",
       "    <tr style=\"text-align: right;\">\n",
       "      <th></th>\n",
       "      <th>SPOCK</th>\n",
       "      <th>KIRK</th>\n",
       "      <th>MCCOY</th>\n",
       "    </tr>\n",
       "  </thead>\n",
       "  <tbody>\n",
       "    <tr>\n",
       "      <th>0</th>\n",
       "      <td>-0.6641</td>\n",
       "      <td>0.0000</td>\n",
       "      <td>0.0000</td>\n",
       "    </tr>\n",
       "    <tr>\n",
       "      <th>1</th>\n",
       "      <td>-0.9900</td>\n",
       "      <td>0.9957</td>\n",
       "      <td>0.7874</td>\n",
       "    </tr>\n",
       "    <tr>\n",
       "      <th>2</th>\n",
       "      <td>-0.9457</td>\n",
       "      <td>0.9965</td>\n",
       "      <td>0.9415</td>\n",
       "    </tr>\n",
       "    <tr>\n",
       "      <th>3</th>\n",
       "      <td>-0.8881</td>\n",
       "      <td>0.9917</td>\n",
       "      <td>0.0000</td>\n",
       "    </tr>\n",
       "    <tr>\n",
       "      <th>4</th>\n",
       "      <td>0.9743</td>\n",
       "      <td>0.9606</td>\n",
       "      <td>-0.4213</td>\n",
       "    </tr>\n",
       "    <tr>\n",
       "      <th>...</th>\n",
       "      <td>...</td>\n",
       "      <td>...</td>\n",
       "      <td>...</td>\n",
       "    </tr>\n",
       "    <tr>\n",
       "      <th>75</th>\n",
       "      <td>-0.9693</td>\n",
       "      <td>0.9934</td>\n",
       "      <td>0.7456</td>\n",
       "    </tr>\n",
       "    <tr>\n",
       "      <th>76</th>\n",
       "      <td>-0.9787</td>\n",
       "      <td>0.9939</td>\n",
       "      <td>0.3504</td>\n",
       "    </tr>\n",
       "    <tr>\n",
       "      <th>77</th>\n",
       "      <td>0.9643</td>\n",
       "      <td>0.9758</td>\n",
       "      <td>0.8351</td>\n",
       "    </tr>\n",
       "    <tr>\n",
       "      <th>78</th>\n",
       "      <td>-0.8361</td>\n",
       "      <td>0.7055</td>\n",
       "      <td>-0.9790</td>\n",
       "    </tr>\n",
       "    <tr>\n",
       "      <th>79</th>\n",
       "      <td>0.9326</td>\n",
       "      <td>-0.9968</td>\n",
       "      <td>0.9017</td>\n",
       "    </tr>\n",
       "  </tbody>\n",
       "</table>\n",
       "<p>80 rows × 3 columns</p>\n",
       "</div>"
      ],
      "text/plain": [
       "     SPOCK    KIRK   MCCOY\n",
       "0  -0.6641  0.0000  0.0000\n",
       "1  -0.9900  0.9957  0.7874\n",
       "2  -0.9457  0.9965  0.9415\n",
       "3  -0.8881  0.9917  0.0000\n",
       "4   0.9743  0.9606 -0.4213\n",
       "..     ...     ...     ...\n",
       "75 -0.9693  0.9934  0.7456\n",
       "76 -0.9787  0.9939  0.3504\n",
       "77  0.9643  0.9758  0.8351\n",
       "78 -0.8361  0.7055 -0.9790\n",
       "79  0.9326 -0.9968  0.9017\n",
       "\n",
       "[80 rows x 3 columns]"
      ]
     },
     "execution_count": 10,
     "metadata": {},
     "output_type": "execute_result"
    }
   ],
   "source": [
    "spock_scores = pd.DataFrame(sentiment_scores['SPOCK']['episode'], columns=['SPOCK'])\n",
    "kirk_scores = pd.DataFrame(sentiment_scores['KIRK']['episode'], columns=['KIRK'])\n",
    "mccoy_scores = pd.DataFrame(sentiment_scores['MCCOY']['episode'], columns=['MCCOY'])\n",
    "\n",
    "# Concatenate the DataFrames along the columns axis\n",
    "merged_df = pd.concat([spock_scores, kirk_scores, mccoy_scores], axis=1)\n",
    "merged_df"
   ]
  },
  {
   "cell_type": "code",
   "execution_count": 11,
   "metadata": {},
   "outputs": [
    {
     "data": {
      "text/html": [
       "<div>\n",
       "<style scoped>\n",
       "    .dataframe tbody tr th:only-of-type {\n",
       "        vertical-align: middle;\n",
       "    }\n",
       "\n",
       "    .dataframe tbody tr th {\n",
       "        vertical-align: top;\n",
       "    }\n",
       "\n",
       "    .dataframe thead th {\n",
       "        text-align: right;\n",
       "    }\n",
       "</style>\n",
       "<table border=\"1\" class=\"dataframe\">\n",
       "  <thead>\n",
       "    <tr style=\"text-align: right;\">\n",
       "      <th></th>\n",
       "      <th>SPOCK</th>\n",
       "      <th>KIRK</th>\n",
       "      <th>MCCOY</th>\n",
       "    </tr>\n",
       "  </thead>\n",
       "  <tbody>\n",
       "    <tr>\n",
       "      <th>0</th>\n",
       "      <td>488</td>\n",
       "      <td>0</td>\n",
       "      <td>0</td>\n",
       "    </tr>\n",
       "    <tr>\n",
       "      <th>1</th>\n",
       "      <td>679</td>\n",
       "      <td>1827</td>\n",
       "      <td>1217</td>\n",
       "    </tr>\n",
       "    <tr>\n",
       "      <th>2</th>\n",
       "      <td>533</td>\n",
       "      <td>2093</td>\n",
       "      <td>413</td>\n",
       "    </tr>\n",
       "    <tr>\n",
       "      <th>3</th>\n",
       "      <td>863</td>\n",
       "      <td>1695</td>\n",
       "      <td>0</td>\n",
       "    </tr>\n",
       "    <tr>\n",
       "      <th>4</th>\n",
       "      <td>1291</td>\n",
       "      <td>1454</td>\n",
       "      <td>540</td>\n",
       "    </tr>\n",
       "    <tr>\n",
       "      <th>...</th>\n",
       "      <td>...</td>\n",
       "      <td>...</td>\n",
       "      <td>...</td>\n",
       "    </tr>\n",
       "    <tr>\n",
       "      <th>75</th>\n",
       "      <td>956</td>\n",
       "      <td>1476</td>\n",
       "      <td>419</td>\n",
       "    </tr>\n",
       "    <tr>\n",
       "      <th>76</th>\n",
       "      <td>1195</td>\n",
       "      <td>2106</td>\n",
       "      <td>280</td>\n",
       "    </tr>\n",
       "    <tr>\n",
       "      <th>77</th>\n",
       "      <td>866</td>\n",
       "      <td>1750</td>\n",
       "      <td>462</td>\n",
       "    </tr>\n",
       "    <tr>\n",
       "      <th>78</th>\n",
       "      <td>1567</td>\n",
       "      <td>1358</td>\n",
       "      <td>931</td>\n",
       "    </tr>\n",
       "    <tr>\n",
       "      <th>79</th>\n",
       "      <td>998</td>\n",
       "      <td>2553</td>\n",
       "      <td>1038</td>\n",
       "    </tr>\n",
       "  </tbody>\n",
       "</table>\n",
       "<p>80 rows × 3 columns</p>\n",
       "</div>"
      ],
      "text/plain": [
       "    SPOCK  KIRK  MCCOY\n",
       "0     488     0      0\n",
       "1     679  1827   1217\n",
       "2     533  2093    413\n",
       "3     863  1695      0\n",
       "4    1291  1454    540\n",
       "..    ...   ...    ...\n",
       "75    956  1476    419\n",
       "76   1195  2106    280\n",
       "77    866  1750    462\n",
       "78   1567  1358    931\n",
       "79    998  2553   1038\n",
       "\n",
       "[80 rows x 3 columns]"
      ]
     },
     "execution_count": 11,
     "metadata": {},
     "output_type": "execute_result"
    }
   ],
   "source": [
    "spock_words = pd.DataFrame(word_counts['SPOCK']['episode'], columns=['SPOCK'])\n",
    "kirk_words = pd.DataFrame(word_counts['KIRK']['episode'], columns=['KIRK'])\n",
    "mccoy_words = pd.DataFrame(word_counts['MCCOY']['episode'], columns=['MCCOY'])\n",
    "\n",
    "# Concatenate the DataFrames along the columns axis\n",
    "word_counts_df = pd.concat([spock_words, kirk_words, mccoy_words], axis=1)\n",
    "word_counts_df"
   ]
  },
  {
   "cell_type": "code",
   "execution_count": 12,
   "metadata": {},
   "outputs": [
    {
     "name": "stdout",
     "output_type": "stream",
     "text": [
      "SPOCK   -0.005304\n",
      "KIRK     0.224218\n",
      "MCCOY    0.104833\n",
      "dtype: float64\n"
     ]
    }
   ],
   "source": [
    "average_scores = merged_df.mean()\n",
    "\n",
    "# Print the average scores\n",
    "print(average_scores)"
   ]
  },
  {
   "cell_type": "code",
   "execution_count": 13,
   "metadata": {},
   "outputs": [
    {
     "name": "stdout",
     "output_type": "stream",
     "text": [
      "SPOCK    1040.4000\n",
      "KIRK     1873.2875\n",
      "MCCOY     573.1125\n",
      "dtype: float64\n"
     ]
    }
   ],
   "source": [
    "average_words = word_counts_df.mean()\n",
    "\n",
    "# Print the average scores\n",
    "print(average_words)"
   ]
  },
  {
   "cell_type": "code",
   "execution_count": 14,
   "metadata": {},
   "outputs": [
    {
     "data": {
      "image/png": "[encoded data removed]",
      "text/plain": [
       "<Figure size 1000x600 with 1 Axes>"
      ]
     },
     "metadata": {},
     "output_type": "display_data"
    }
   ],
   "source": [
    "plt.figure(figsize=(10, 6))\n",
    "average_scores.plot(kind='bar')\n",
    "plt.xlabel('Character')\n",
    "plt.ylabel('Average Sentiment Score')\n",
    "plt.title('Average Sentiment Score for Each Character')\n",
    "plt.xticks(rotation=45)  # Rotate x-axis labels for better readability\n",
    "plt.show()"
   ]
  },
  {
   "attachments": {},
   "cell_type": "markdown",
   "metadata": {},
   "source": [
    "Trying weighted by words."
   ]
  },
  {
   "cell_type": "code",
   "execution_count": 15,
   "metadata": {},
   "outputs": [
    {
     "data": {
      "image/png": "[encoded data removed]",
      "text/plain": [
       "<Figure size 1000x600 with 1 Axes>"
      ]
     },
     "metadata": {},
     "output_type": "display_data"
    },
    {
     "data": {
      "image/png": "[encoded data removed]",
      "text/plain": [
       "<Figure size 1000x600 with 1 Axes>"
      ]
     },
     "metadata": {},
     "output_type": "display_data"
    },
    {
     "data": {
      "image/png": "[encoded data removed]",
      "text/plain": [
       "<Figure size 1000x600 with 1 Axes>"
      ]
     },
     "metadata": {},
     "output_type": "display_data"
    }
   ],
   "source": [
    "for char in characters_of_interest:\n",
    "    plt.figure(figsize=(10, 6))\n",
    "    episode_numbers = range(len(word_counts_df))\n",
    "    plt.plot(episode_numbers, word_counts_df[char], marker='o', label=char)\n",
    "    plt.title(f'Word Count for {char} Across Episodes')\n",
    "    plt.xlabel('Episode Number')\n",
    "    plt.ylabel('Word Count')\n",
    "    #plt.legend()\n",
    "    plt.grid(True)\n",
    "    plt.show()"
   ]
  },
  {
   "cell_type": "code",
   "execution_count": 16,
   "metadata": {},
   "outputs": [
    {
     "data": {
      "image/png": "[encoded data removed]",
      "text/plain": [
       "<Figure size 1000x600 with 1 Axes>"
      ]
     },
     "metadata": {},
     "output_type": "display_data"
    }
   ],
   "source": [
    "# Calculate and compare the average word counts for each character\n",
    "average_word_counts = {char: sum(word_counts[char]['episode']) / len(word_counts[char]['episode']) for char in characters_of_interest}\n",
    "\n",
    "plt.figure(figsize=(10, 6))\n",
    "plt.bar(average_word_counts.keys(), average_word_counts.values(), color='green', alpha=0.7)\n",
    "plt.title('Average Word Counts for Each Character Across Episodes')\n",
    "plt.xlabel('Character')\n",
    "plt.ylabel('Average Word Count')\n",
    "plt.grid(axis='y')\n",
    "plt.show()"
   ]
  },
  {
   "cell_type": "code",
   "execution_count": 17,
   "metadata": {},
   "outputs": [],
   "source": [
    "# import plotly.graph_objs as go\n",
    "\n",
    "# # Initialize a list to store Plotly traces\n",
    "# traces = []\n",
    "\n",
    "# for char in characters_of_interest:\n",
    "#     # Merge sentiment scores and word counts per character per episode\n",
    "#     # scores = pd.DataFrame(sentiment_scores[char])\n",
    "#     counts = pd.DataFrame(word_counts[char]) \n",
    "#     char_data = pd.merge(merged_df[char], counts, left_index=True, right_index=True)\n",
    "#     char_data.columns = ['sent_per_episode', 'word count']\n",
    "    \n",
    "#     # Calculate weighted sentiment score per episode\n",
    "#     weighted_sentiment_per_episode[char] = char_data['sent_per_episode'] / char_data['word count']\n",
    "\n",
    "#     # Create a Plotly trace for the character\n",
    "#     trace = go.Scatter(\n",
    "#         x=char_data.index,  # Episode numbers\n",
    "#         y=weighted_sentiment_per_episode[char],\n",
    "#         mode='lines+markers',\n",
    "#         name=char\n",
    "#     )\n",
    "#     traces.append(trace)\n",
    "\n",
    "# # Create the layout for the plot\n",
    "# layout = go.Layout(\n",
    "#     title='Weighted Sentiment Score Per Episode for Each Character',\n",
    "#     xaxis=dict(title='Episode'),\n",
    "#     yaxis=dict(title='Weighted Sentiment Score')\n",
    "# )\n",
    "\n",
    "# # Create the Plotly figure\n",
    "# fig = go.Figure(data=traces, layout=layout)\n",
    "\n",
    "# # Show the plot\n",
    "# fig.show()\n"
   ]
  },
  {
   "attachments": {},
   "cell_type": "markdown",
   "metadata": {},
   "source": [
    "Maybe weighting by sentiment is not a good thing because low word counts can amplify sentiment scores."
   ]
  },
  {
   "attachments": {},
   "cell_type": "markdown",
   "metadata": {},
   "source": [
    "I want to try and show the episode names when I hover above."
   ]
  },
  {
   "cell_type": "code",
   "execution_count": 18,
   "metadata": {},
   "outputs": [],
   "source": [
    "%store -r series_lines_raw_df"
   ]
  },
  {
   "cell_type": "code",
   "execution_count": 19,
   "metadata": {},
   "outputs": [
    {
     "data": {
      "text/html": [
       "<div>\n",
       "<style scoped>\n",
       "    .dataframe tbody tr th:only-of-type {\n",
       "        vertical-align: middle;\n",
       "    }\n",
       "\n",
       "    .dataframe tbody tr th {\n",
       "        vertical-align: top;\n",
       "    }\n",
       "\n",
       "    .dataframe thead th {\n",
       "        text-align: right;\n",
       "    }\n",
       "</style>\n",
       "<table border=\"1\" class=\"dataframe\">\n",
       "  <thead>\n",
       "    <tr style=\"text-align: right;\">\n",
       "      <th></th>\n",
       "      <th>TOS</th>\n",
       "    </tr>\n",
       "  </thead>\n",
       "  <tbody>\n",
       "    <tr>\n",
       "      <th>episode 0</th>\n",
       "      <td>\\n\\n\\n\\n\\n\\nThe Star Trek Transcripts - The Ca...</td>\n",
       "    </tr>\n",
       "    <tr>\n",
       "      <th>episode 1</th>\n",
       "      <td>\\n\\n\\n\\n\\n\\nThe Star Trek Transcripts - The Ma...</td>\n",
       "    </tr>\n",
       "    <tr>\n",
       "      <th>episode 2</th>\n",
       "      <td>\\n\\n\\n\\n\\n\\nThe Star Trek Transcripts - Charli...</td>\n",
       "    </tr>\n",
       "    <tr>\n",
       "      <th>episode 3</th>\n",
       "      <td>\\n\\n\\n\\n\\n\\nThe Star Trek Transcripts - Where ...</td>\n",
       "    </tr>\n",
       "    <tr>\n",
       "      <th>episode 4</th>\n",
       "      <td>\\n\\n\\n\\n\\n\\nThe Star Trek Transcripts - The Na...</td>\n",
       "    </tr>\n",
       "  </tbody>\n",
       "</table>\n",
       "</div>"
      ],
      "text/plain": [
       "                                                         TOS\n",
       "episode 0  \\n\\n\\n\\n\\n\\nThe Star Trek Transcripts - The Ca...\n",
       "episode 1  \\n\\n\\n\\n\\n\\nThe Star Trek Transcripts - The Ma...\n",
       "episode 2  \\n\\n\\n\\n\\n\\nThe Star Trek Transcripts - Charli...\n",
       "episode 3  \\n\\n\\n\\n\\n\\nThe Star Trek Transcripts - Where ...\n",
       "episode 4  \\n\\n\\n\\n\\n\\nThe Star Trek Transcripts - The Na..."
      ]
     },
     "execution_count": 19,
     "metadata": {},
     "output_type": "execute_result"
    }
   ],
   "source": [
    "series_lines_raw_df.head()"
   ]
  },
  {
   "cell_type": "code",
   "execution_count": 20,
   "metadata": {},
   "outputs": [
    {
     "data": {
      "text/html": [
       "<div>\n",
       "<style scoped>\n",
       "    .dataframe tbody tr th:only-of-type {\n",
       "        vertical-align: middle;\n",
       "    }\n",
       "\n",
       "    .dataframe tbody tr th {\n",
       "        vertical-align: top;\n",
       "    }\n",
       "\n",
       "    .dataframe thead th {\n",
       "        text-align: right;\n",
       "    }\n",
       "</style>\n",
       "<table border=\"1\" class=\"dataframe\">\n",
       "  <thead>\n",
       "    <tr style=\"text-align: right;\">\n",
       "      <th></th>\n",
       "      <th>TOS</th>\n",
       "      <th>Title</th>\n",
       "    </tr>\n",
       "  </thead>\n",
       "  <tbody>\n",
       "    <tr>\n",
       "      <th>episode 0</th>\n",
       "      <td>\\n\\n\\n\\n\\n\\nThe Star Trek Transcripts - The Ca...</td>\n",
       "      <td>The Cage</td>\n",
       "    </tr>\n",
       "    <tr>\n",
       "      <th>episode 1</th>\n",
       "      <td>\\n\\n\\n\\n\\n\\nThe Star Trek Transcripts - The Ma...</td>\n",
       "      <td>The Man Trap</td>\n",
       "    </tr>\n",
       "    <tr>\n",
       "      <th>episode 2</th>\n",
       "      <td>\\n\\n\\n\\n\\n\\nThe Star Trek Transcripts - Charli...</td>\n",
       "      <td>Charlie X</td>\n",
       "    </tr>\n",
       "    <tr>\n",
       "      <th>episode 3</th>\n",
       "      <td>\\n\\n\\n\\n\\n\\nThe Star Trek Transcripts - Where ...</td>\n",
       "      <td>Where No Man Has Gone Before</td>\n",
       "    </tr>\n",
       "    <tr>\n",
       "      <th>episode 4</th>\n",
       "      <td>\\n\\n\\n\\n\\n\\nThe Star Trek Transcripts - The Na...</td>\n",
       "      <td>The Naked Time</td>\n",
       "    </tr>\n",
       "  </tbody>\n",
       "</table>\n",
       "</div>"
      ],
      "text/plain": [
       "                                                         TOS  \\\n",
       "episode 0  \\n\\n\\n\\n\\n\\nThe Star Trek Transcripts - The Ca...   \n",
       "episode 1  \\n\\n\\n\\n\\n\\nThe Star Trek Transcripts - The Ma...   \n",
       "episode 2  \\n\\n\\n\\n\\n\\nThe Star Trek Transcripts - Charli...   \n",
       "episode 3  \\n\\n\\n\\n\\n\\nThe Star Trek Transcripts - Where ...   \n",
       "episode 4  \\n\\n\\n\\n\\n\\nThe Star Trek Transcripts - The Na...   \n",
       "\n",
       "                                  Title  \n",
       "episode 0                      The Cage  \n",
       "episode 1                  The Man Trap  \n",
       "episode 2                     Charlie X  \n",
       "episode 3  Where No Man Has Gone Before  \n",
       "episode 4                The Naked Time  "
      ]
     },
     "execution_count": 20,
     "metadata": {},
     "output_type": "execute_result"
    }
   ],
   "source": [
    "pattern = r'-\\s(.*?)\\n'\n",
    "\n",
    "# Apply the pattern to extract the title and create a new column\n",
    "series_lines_raw_df['Title'] = series_lines_raw_df['TOS'].str.extract(pattern)\n",
    "\n",
    "\n",
    "series_lines_raw_df.head()"
   ]
  },
  {
   "cell_type": "code",
   "execution_count": 21,
   "metadata": {},
   "outputs": [
    {
     "data": {
      "text/plain": [
       "episode 0                         The Cage\n",
       "episode 1                     The Man Trap\n",
       "episode 2                        Charlie X\n",
       "episode 3     Where No Man Has Gone Before\n",
       "episode 4                   The Naked Time\n",
       "                          ...             \n",
       "episode 75                 The Way To Eden\n",
       "episode 76               The Cloud Minders\n",
       "episode 77              The Savage Curtain\n",
       "episode 78              All Our Yesterdays\n",
       "episode 79              Turnabout Intruder\n",
       "Name: Title, Length: 80, dtype: object"
      ]
     },
     "execution_count": 21,
     "metadata": {},
     "output_type": "execute_result"
    }
   ],
   "source": [
    "series_lines_raw_df['Title']"
   ]
  },
  {
   "cell_type": "code",
   "execution_count": 24,
   "metadata": {},
   "outputs": [],
   "source": [
    " import plotly.graph_objs as go\n",
    "\n",
    "# # Initialize a list to store Plotly traces\n",
    "# traces = []\n",
    "\n",
    "# for char in characters_of_interest:\n",
    "#     # Merge sentiment scores and word counts per character per episode\n",
    "#     # scores = pd.DataFrame(sentiment_scores[char])\n",
    "#     counts = pd.DataFrame(word_counts[char]) \n",
    "#     char_data = pd.merge(merged_df[char], counts, left_index=True, right_index=True)\n",
    "#     char_data.columns = ['sent_per_episode', 'word count']\n",
    "    \n",
    "#     # Calculate weighted sentiment score per episode\n",
    "#     weighted_sentiment_per_episode[char] = char_data['sent_per_episode'] / char_data['word count']\n",
    "\n",
    "#     title_values = series_lines_raw_df['Title']\n",
    "    \n",
    "#     # Create a Plotly trace for the character\n",
    "#     trace = go.Scatter(\n",
    "#         x=char_data.index,  # Episode numbers\n",
    "#         y=weighted_sentiment_per_episode[char],\n",
    "#         mode='lines+markers',\n",
    "#         name=char,\n",
    "#         text=[f'Episode: {episode}<br>Weighted Sentiment: {sentiment:.2f}<br>Title: {title}' \n",
    "#               for episode, sentiment, title in zip(char_data.index, \n",
    "#                                                     weighted_sentiment_per_episode[char], \n",
    "#                                                     title_values)],  # Include 'Title' values in hover text\n",
    "#         hoverinfo='text'\n",
    "#     )\n",
    "#     traces.append(trace)\n",
    "\n",
    "# # Create the layout for the plot\n",
    "# layout = go.Layout(\n",
    "#     title='Weighted Sentiment Score Per Episode for Each Character',\n",
    "#     xaxis=dict(title='Episode'),\n",
    "#     yaxis=dict(title='Weighted Sentiment Score')\n",
    "# )\n",
    "\n",
    "# # Create the Plotly figure\n",
    "# fig = go.Figure(data=traces, layout=layout)\n",
    "\n",
    "# # Show the plot\n",
    "# fig.show()\n"
   ]
  },
  {
   "cell_type": "code",
   "execution_count": 25,
   "metadata": {},
   "outputs": [
    {
     "data": {
      "application/vnd.plotly.v1+json": {
       "config": {
        "plotlyServerURL": "https://plot.ly"
       },
       "data": [
        {
         "hoverinfo": "text",
         "mode": "lines+markers",
         "name": "SPOCK",
         "text": [
          "Episode: 0<br>Weighted Sentiment: -0.14<br>Title: The Cage",
          "Episode: 1<br>Weighted Sentiment: -0.28<br>Title: The Man Trap",
          "Episode: 2<br>Weighted Sentiment: -0.21<br>Title: Charlie X",
          "Episode: 3<br>Weighted Sentiment: -0.32<br>Title: Where No Man Has Gone Before",
          "Episode: 4<br>Weighted Sentiment: 0.53<br>Title: The Naked Time",
          "Episode: 5<br>Weighted Sentiment: 0.38<br>Title: The Enemy Within",
          "Episode: 6<br>Weighted Sentiment: -0.08<br>Title: Mudd's Women",
          "Episode: 7<br>Weighted Sentiment: -0.13<br>Title: What Are Little Girls Made\r",
          "Episode: 8<br>Weighted Sentiment: 0.12<br>Title: Miri",
          "Episode: 9<br>Weighted Sentiment: -0.24<br>Title: Dagger Of The Mind",
          "Episode: 10<br>Weighted Sentiment: 0.36<br>Title: The Corbomite Maneuver",
          "Episode: 11<br>Weighted Sentiment: 0.39<br>Title: The Menagerie",
          "Episode: 12<br>Weighted Sentiment: -0.21<br>Title: The Menagerie, Part 2",
          "Episode: 13<br>Weighted Sentiment: -0.36<br>Title: The Conscience of the King",
          "Episode: 14<br>Weighted Sentiment: -0.39<br>Title: Balance of Terror",
          "Episode: 15<br>Weighted Sentiment: 0.33<br>Title: Shore Leave",
          "Episode: 16<br>Weighted Sentiment: -0.98<br>Title: The Galileo Seven",
          "Episode: 17<br>Weighted Sentiment: 0.36<br>Title: The Squire of Gothos",
          "Episode: 18<br>Weighted Sentiment: 0.38<br>Title: Arena",
          "Episode: 19<br>Weighted Sentiment: -0.65<br>Title: Tomorrow is Yesterday",
          "Episode: 20<br>Weighted Sentiment: 0.25<br>Title: Court Martial",
          "Episode: 21<br>Weighted Sentiment: 0.36<br>Title: The Return of The Archons",
          "Episode: 22<br>Weighted Sentiment: -0.23<br>Title: Space Seed",
          "Episode: 23<br>Weighted Sentiment: -0.33<br>Title: A Taste of Armageddon",
          "Episode: 24<br>Weighted Sentiment: 0.51<br>Title: This Side of Paradise",
          "Episode: 25<br>Weighted Sentiment: -0.81<br>Title: The Devil In The Dark",
          "Episode: 26<br>Weighted Sentiment: 0.43<br>Title: Errand of Mercy",
          "Episode: 27<br>Weighted Sentiment: -0.37<br>Title: The Alternative Factor",
          "Episode: 28<br>Weighted Sentiment: -0.60<br>Title: The City on the Edge of Forever",
          "Episode: 29<br>Weighted Sentiment: -0.56<br>Title: Operation: Annihilate!",
          "Episode: 30<br>Weighted Sentiment: 0.61<br>Title: Amok Time",
          "Episode: 31<br>Weighted Sentiment: 0.24<br>Title: Who Mourns For Adonais?",
          "Episode: 32<br>Weighted Sentiment: -0.63<br>Title: The Changeling",
          "Episode: 33<br>Weighted Sentiment: -0.56<br>Title: Mirror, Mirror",
          "Episode: 34<br>Weighted Sentiment: 0.48<br>Title: The Apple",
          "Episode: 35<br>Weighted Sentiment: -0.79<br>Title: The Doomsday Machine",
          "Episode: 36<br>Weighted Sentiment: -0.29<br>Title: Catspaw",
          "Episode: 37<br>Weighted Sentiment: 0.37<br>Title: I, Mudd",
          "Episode: 38<br>Weighted Sentiment: 0.36<br>Title: Metamorphosis",
          "Episode: 39<br>Weighted Sentiment: -0.53<br>Title: Journey to Babel",
          "Episode: 40<br>Weighted Sentiment: 0.15<br>Title: Friday's Child",
          "Episode: 41<br>Weighted Sentiment: -0.62<br>Title: The Deadly Years",
          "Episode: 42<br>Weighted Sentiment: -0.51<br>Title: Obsession",
          "Episode: 43<br>Weighted Sentiment: -0.37<br>Title: Wolf In The Fold",
          "Episode: 44<br>Weighted Sentiment: 0.33<br>Title: The Trouble With Tribbles",
          "Episode: 45<br>Weighted Sentiment: 0.30<br>Title: The Gamesters Of Triskelion",
          "Episode: 46<br>Weighted Sentiment: 0.44<br>Title: A Piece Of The Action",
          "Episode: 47<br>Weighted Sentiment: -0.72<br>Title: The Immunity Syndrome",
          "Episode: 48<br>Weighted Sentiment: 0.07<br>Title: A Private Little War",
          "Episode: 49<br>Weighted Sentiment: 0.54<br>Title: Return To Tomorrow",
          "Episode: 50<br>Weighted Sentiment: 0.39<br>Title: Patterns Of Force",
          "Episode: 51<br>Weighted Sentiment: 0.45<br>Title: By Any Other Name",
          "Episode: 52<br>Weighted Sentiment: -0.28<br>Title: The Omega Glory",
          "Episode: 53<br>Weighted Sentiment: 0.56<br>Title: The Ultimate Computer",
          "Episode: 54<br>Weighted Sentiment: 0.32<br>Title: Bread And Circuses",
          "Episode: 55<br>Weighted Sentiment: 0.18<br>Title: Assignment: Earth",
          "Episode: 56<br>Weighted Sentiment: 0.36<br>Title: Spock's Brain",
          "Episode: 57<br>Weighted Sentiment: 0.49<br>Title: The Enterprise Incident",
          "Episode: 58<br>Weighted Sentiment: -0.59<br>Title: The Paradise Syndrome",
          "Episode: 59<br>Weighted Sentiment: -0.30<br>Title: And The Children Shall Lead",
          "Episode: 60<br>Weighted Sentiment: 0.51<br>Title: Is There In Truth No Beauty?",
          "Episode: 61<br>Weighted Sentiment: -0.57<br>Title: Spectre Of The Gun",
          "Episode: 62<br>Weighted Sentiment: -0.43<br>Title: The Day Of The Dove",
          "Episode: 63<br>Weighted Sentiment: -0.34<br>Title: For The World Is Hollow And\r",
          "Episode: 64<br>Weighted Sentiment: -0.84<br>Title: The Tholian Web",
          "Episode: 65<br>Weighted Sentiment: -0.30<br>Title: Plato's Stepchildren",
          "Episode: 66<br>Weighted Sentiment: 0.30<br>Title: Wink Of An Eye",
          "Episode: 67<br>Weighted Sentiment: 0.55<br>Title: The Empath",
          "Episode: 68<br>Weighted Sentiment: -0.26<br>Title: Elaan of Troyius",
          "Episode: 69<br>Weighted Sentiment: 0.33<br>Title: Whom Gods Destroy",
          "Episode: 70<br>Weighted Sentiment: -0.40<br>Title: Let That Be Your Last\r",
          "Episode: 71<br>Weighted Sentiment: 0.55<br>Title: The Mark Of Gideon",
          "Episode: 72<br>Weighted Sentiment: 0.65<br>Title: That Which Survives",
          "Episode: 73<br>Weighted Sentiment: 0.08<br>Title: The Lights Of Zetar",
          "Episode: 74<br>Weighted Sentiment: 0.43<br>Title: Requiem For Methuselah",
          "Episode: 75<br>Weighted Sentiment: -0.39<br>Title: The Way To Eden",
          "Episode: 76<br>Weighted Sentiment: -0.49<br>Title: The Cloud Minders",
          "Episode: 77<br>Weighted Sentiment: 0.35<br>Title: The Savage Curtain",
          "Episode: 78<br>Weighted Sentiment: -0.55<br>Title: All Our Yesterdays",
          "Episode: 79<br>Weighted Sentiment: 0.39<br>Title: Turnabout Intruder"
         ],
         "type": "scatter",
         "x": [
          0,
          1,
          2,
          3,
          4,
          5,
          6,
          7,
          8,
          9,
          10,
          11,
          12,
          13,
          14,
          15,
          16,
          17,
          18,
          19,
          20,
          21,
          22,
          23,
          24,
          25,
          26,
          27,
          28,
          29,
          30,
          31,
          32,
          33,
          34,
          35,
          36,
          37,
          38,
          39,
          40,
          41,
          42,
          43,
          44,
          45,
          46,
          47,
          48,
          49,
          50,
          51,
          52,
          53,
          54,
          55,
          56,
          57,
          58,
          59,
          60,
          61,
          62,
          63,
          64,
          65,
          66,
          67,
          68,
          69,
          70,
          71,
          72,
          73,
          74,
          75,
          76,
          77,
          78,
          79
         ],
         "y": [
          -0.13697413355874893,
          -0.28411242603550296,
          -0.2130423076923077,
          -0.3239350380388842,
          0.5316235418427727,
          0.37892400676246835,
          -0.07666242603550295,
          -0.133025528317836,
          0.1247337278106509,
          -0.23777717666948436,
          0.3624389687235841,
          0.38649551986475067,
          -0.21207134404057482,
          -0.3624103972950127,
          -0.393834404057481,
          0.3310868554522401,
          -0.9781,
          0.3642013524936602,
          0.37894184277261206,
          -0.6465625528317835,
          0.254751056635672,
          0.35807058326289093,
          -0.23303503803888417,
          -0.3270561284868977,
          0.5145987320371936,
          -0.8065871513102282,
          0.4307396449704142,
          -0.3694730769230769,
          -0.5959648351648352,
          -0.5550312764158918,
          0.6063905325443787,
          0.24210228233305156,
          -0.6264552831783601,
          -0.5578029163144548,
          0.47540152155536775,
          -0.7903648351648351,
          -0.2918733727810651,
          0.36965342349957736,
          0.360932967032967,
          -0.5334953508030431,
          0.15317747252747252,
          -0.6224826711749789,
          -0.5108211327134403,
          -0.36930507185122574,
          0.33223068469991546,
          0.3015581149619611,
          0.43781538461538466,
          -0.7247041420118343,
          0.07176500422654268,
          0.5428402366863906,
          0.39428681318681313,
          0.4526295012679628,
          -0.28091293322062555,
          0.5587075232459848,
          0.31590929839391374,
          0.1813972104818259,
          0.3648655536770921,
          0.4932882502113271,
          -0.5870231614539306,
          -0.30264247675401523,
          0.5148647506339814,
          -0.5695562130177515,
          -0.4266048182586644,
          -0.3425295857988166,
          -0.8436276415891801,
          -0.3044321639898563,
          0.3034766272189349,
          0.5476738377007608,
          -0.2642115807269653,
          0.32922447168216395,
          -0.39956720202874046,
          0.5497822907861369,
          0.6508568047337278,
          0.07783643279797127,
          0.430116314454776,
          -0.39165291631445476,
          -0.4943138207945901,
          0.35295173288250214,
          -0.5537483939137785,
          0.3933790363482671
         ]
        },
        {
         "hoverinfo": "text",
         "mode": "lines+markers",
         "name": "KIRK",
         "text": [
          "Episode: 0<br>Weighted Sentiment: 0.00<br>Title: The Cage",
          "Episode: 1<br>Weighted Sentiment: 0.59<br>Title: The Man Trap",
          "Episode: 2<br>Weighted Sentiment: 0.68<br>Title: Charlie X",
          "Episode: 3<br>Weighted Sentiment: 0.55<br>Title: Where No Man Has Gone Before",
          "Episode: 4<br>Weighted Sentiment: 0.46<br>Title: The Naked Time",
          "Episode: 5<br>Weighted Sentiment: 0.56<br>Title: The Enemy Within",
          "Episode: 6<br>Weighted Sentiment: -0.43<br>Title: Mudd's Women",
          "Episode: 7<br>Weighted Sentiment: -0.48<br>Title: What Are Little Girls Made\r",
          "Episode: 8<br>Weighted Sentiment: 0.60<br>Title: Miri",
          "Episode: 9<br>Weighted Sentiment: 0.56<br>Title: Dagger Of The Mind",
          "Episode: 10<br>Weighted Sentiment: -0.55<br>Title: The Corbomite Maneuver",
          "Episode: 11<br>Weighted Sentiment: -0.31<br>Title: The Menagerie",
          "Episode: 12<br>Weighted Sentiment: -0.15<br>Title: The Menagerie, Part 2",
          "Episode: 13<br>Weighted Sentiment: -0.45<br>Title: The Conscience of the King",
          "Episode: 14<br>Weighted Sentiment: -0.57<br>Title: Balance of Terror",
          "Episode: 15<br>Weighted Sentiment: 0.63<br>Title: Shore Leave",
          "Episode: 16<br>Weighted Sentiment: 0.35<br>Title: The Galileo Seven",
          "Episode: 17<br>Weighted Sentiment: -0.64<br>Title: The Squire of Gothos",
          "Episode: 18<br>Weighted Sentiment: 0.61<br>Title: Arena",
          "Episode: 19<br>Weighted Sentiment: 0.60<br>Title: Tomorrow is Yesterday",
          "Episode: 20<br>Weighted Sentiment: -0.72<br>Title: Court Martial",
          "Episode: 21<br>Weighted Sentiment: 0.63<br>Title: The Return of The Archons",
          "Episode: 22<br>Weighted Sentiment: 0.49<br>Title: Space Seed",
          "Episode: 23<br>Weighted Sentiment: -0.73<br>Title: A Taste of Armageddon",
          "Episode: 24<br>Weighted Sentiment: -0.61<br>Title: This Side of Paradise",
          "Episode: 25<br>Weighted Sentiment: 0.83<br>Title: The Devil In The Dark",
          "Episode: 26<br>Weighted Sentiment: -0.88<br>Title: Errand of Mercy",
          "Episode: 27<br>Weighted Sentiment: -0.70<br>Title: The Alternative Factor",
          "Episode: 28<br>Weighted Sentiment: 0.53<br>Title: The City on the Edge of Forever",
          "Episode: 29<br>Weighted Sentiment: -0.50<br>Title: Operation: Annihilate!",
          "Episode: 30<br>Weighted Sentiment: 0.49<br>Title: Amok Time",
          "Episode: 31<br>Weighted Sentiment: 0.72<br>Title: Who Mourns For Adonais?",
          "Episode: 32<br>Weighted Sentiment: -0.76<br>Title: The Changeling",
          "Episode: 33<br>Weighted Sentiment: 0.65<br>Title: Mirror, Mirror",
          "Episode: 34<br>Weighted Sentiment: 0.80<br>Title: The Apple",
          "Episode: 35<br>Weighted Sentiment: -0.68<br>Title: The Doomsday Machine",
          "Episode: 36<br>Weighted Sentiment: -0.54<br>Title: Catspaw",
          "Episode: 37<br>Weighted Sentiment: 0.78<br>Title: I, Mudd",
          "Episode: 38<br>Weighted Sentiment: 0.70<br>Title: Metamorphosis",
          "Episode: 39<br>Weighted Sentiment: 0.46<br>Title: Journey to Babel",
          "Episode: 40<br>Weighted Sentiment: 0.18<br>Title: Friday's Child",
          "Episode: 41<br>Weighted Sentiment: -0.82<br>Title: The Deadly Years",
          "Episode: 42<br>Weighted Sentiment: -0.91<br>Title: Obsession",
          "Episode: 43<br>Weighted Sentiment: -0.83<br>Title: Wolf In The Fold",
          "Episode: 44<br>Weighted Sentiment: 0.66<br>Title: The Trouble With Tribbles",
          "Episode: 45<br>Weighted Sentiment: 0.57<br>Title: The Gamesters Of Triskelion",
          "Episode: 46<br>Weighted Sentiment: 0.98<br>Title: A Piece Of The Action",
          "Episode: 47<br>Weighted Sentiment: 0.91<br>Title: The Immunity Syndrome",
          "Episode: 48<br>Weighted Sentiment: -0.47<br>Title: A Private Little War",
          "Episode: 49<br>Weighted Sentiment: 0.54<br>Title: Return To Tomorrow",
          "Episode: 50<br>Weighted Sentiment: -0.62<br>Title: Patterns Of Force",
          "Episode: 51<br>Weighted Sentiment: 0.40<br>Title: By Any Other Name",
          "Episode: 52<br>Weighted Sentiment: 0.47<br>Title: The Omega Glory",
          "Episode: 53<br>Weighted Sentiment: -0.89<br>Title: The Ultimate Computer",
          "Episode: 54<br>Weighted Sentiment: 0.41<br>Title: Bread And Circuses",
          "Episode: 55<br>Weighted Sentiment: 0.24<br>Title: Assignment: Earth",
          "Episode: 56<br>Weighted Sentiment: 0.81<br>Title: Spock's Brain",
          "Episode: 57<br>Weighted Sentiment: 0.45<br>Title: The Enterprise Incident",
          "Episode: 58<br>Weighted Sentiment: 0.42<br>Title: The Paradise Syndrome",
          "Episode: 59<br>Weighted Sentiment: -0.60<br>Title: And The Children Shall Lead",
          "Episode: 60<br>Weighted Sentiment: 0.60<br>Title: Is There In Truth No Beauty?",
          "Episode: 61<br>Weighted Sentiment: 0.75<br>Title: Spectre Of The Gun",
          "Episode: 62<br>Weighted Sentiment: -0.73<br>Title: The Day Of The Dove",
          "Episode: 63<br>Weighted Sentiment: 0.52<br>Title: For The World Is Hollow And\r",
          "Episode: 64<br>Weighted Sentiment: 0.23<br>Title: The Tholian Web",
          "Episode: 65<br>Weighted Sentiment: 0.43<br>Title: Plato's Stepchildren",
          "Episode: 66<br>Weighted Sentiment: 0.51<br>Title: Wink Of An Eye",
          "Episode: 67<br>Weighted Sentiment: 0.49<br>Title: The Empath",
          "Episode: 68<br>Weighted Sentiment: 0.90<br>Title: Elaan of Troyius",
          "Episode: 69<br>Weighted Sentiment: 0.44<br>Title: Whom Gods Destroy",
          "Episode: 70<br>Weighted Sentiment: -0.78<br>Title: Let That Be Your Last\r",
          "Episode: 71<br>Weighted Sentiment: -0.55<br>Title: The Mark Of Gideon",
          "Episode: 72<br>Weighted Sentiment: -0.56<br>Title: That Which Survives",
          "Episode: 73<br>Weighted Sentiment: -0.70<br>Title: The Lights Of Zetar",
          "Episode: 74<br>Weighted Sentiment: 0.45<br>Title: Requiem For Methuselah",
          "Episode: 75<br>Weighted Sentiment: 0.48<br>Title: The Way To Eden",
          "Episode: 76<br>Weighted Sentiment: 0.68<br>Title: The Cloud Minders",
          "Episode: 77<br>Weighted Sentiment: 0.56<br>Title: The Savage Curtain",
          "Episode: 78<br>Weighted Sentiment: 0.31<br>Title: All Our Yesterdays",
          "Episode: 79<br>Weighted Sentiment: -0.83<br>Title: Turnabout Intruder"
         ],
         "type": "scatter",
         "x": [
          0,
          1,
          2,
          3,
          4,
          5,
          6,
          7,
          8,
          9,
          10,
          11,
          12,
          13,
          14,
          15,
          16,
          17,
          18,
          19,
          20,
          21,
          22,
          23,
          24,
          25,
          26,
          27,
          28,
          29,
          30,
          31,
          32,
          33,
          34,
          35,
          36,
          37,
          38,
          39,
          40,
          41,
          42,
          43,
          44,
          45,
          46,
          47,
          48,
          49,
          50,
          51,
          52,
          53,
          54,
          55,
          56,
          57,
          58,
          59,
          60,
          61,
          62,
          63,
          64,
          65,
          66,
          67,
          68,
          69,
          70,
          71,
          72,
          73,
          74,
          75,
          76,
          77,
          78,
          79
         ],
         "y": [
          0,
          0.5946858123569794,
          0.6818157894736843,
          0.5495035959463876,
          0.45659117358613927,
          0.5618535142203335,
          -0.4285872834259562,
          -0.48410006538084344,
          0.5975565217391304,
          0.5618796992481203,
          -0.5512956521739131,
          -0.30643478260869567,
          -0.15233952271984308,
          -0.4509889506374632,
          -0.5693762667538411,
          0.6330526315789474,
          0.3454828375286041,
          -0.6413337038247794,
          0.6142642693690749,
          0.6002969597907813,
          -0.7193454723765936,
          0.63083161163779,
          0.48862536776724425,
          -0.7305161817587447,
          -0.6059611637790128,
          0.8304552141222623,
          -0.8787020594965675,
          -0.6971510297482838,
          0.5252779339653482,
          -0.5012461588754494,
          0.48505639097744363,
          0.7189486760379209,
          -0.7617142857142857,
          0.6541352729650212,
          0.8038768224910101,
          -0.6753937888198758,
          -0.5408897025171624,
          0.7761846681922198,
          0.7022763648251062,
          0.46449385420071915,
          0.17766551160509972,
          -0.8213581235697941,
          -0.9082321019941157,
          -0.8254260869565218,
          0.6595012095456031,
          0.5723790781301079,
          0.9812,
          0.9110285714285714,
          -0.47389016018306634,
          0.5420472049689441,
          -0.6246407322654463,
          0.39531389342922524,
          0.46915067015364503,
          -0.8852016999019288,
          0.40660346518470086,
          0.23994239947695323,
          0.8082949983654789,
          0.45007446878064733,
          0.42072978097417457,
          -0.6007870219025825,
          0.6016884602811376,
          0.7473913043478261,
          -0.7268478260869566,
          0.5219811703170971,
          0.23344089571755475,
          0.4345716247139588,
          0.510375939849624,
          0.49493507682249105,
          0.89725478914678,
          0.4440564890487087,
          -0.7772265446224256,
          -0.5521704478587774,
          -0.5600035632559661,
          -0.6967551487414188,
          0.44973919581562605,
          0.47932605426610003,
          0.6842606734226871,
          0.558237986270023,
          0.3131967963386728,
          -0.8319157894736843
         ]
        },
        {
         "hoverinfo": "text",
         "mode": "lines+markers",
         "name": "MCCOY",
         "text": [
          "Episode: 0<br>Weighted Sentiment: 0.00<br>Title: The Cage",
          "Episode: 1<br>Weighted Sentiment: 0.62<br>Title: The Man Trap",
          "Episode: 2<br>Weighted Sentiment: 0.25<br>Title: Charlie X",
          "Episode: 3<br>Weighted Sentiment: 0.00<br>Title: Where No Man Has Gone Before",
          "Episode: 4<br>Weighted Sentiment: -0.15<br>Title: The Naked Time",
          "Episode: 5<br>Weighted Sentiment: 0.20<br>Title: The Enemy Within",
          "Episode: 6<br>Weighted Sentiment: 0.19<br>Title: Mudd's Women",
          "Episode: 7<br>Weighted Sentiment: 0.00<br>Title: What Are Little Girls Made\r",
          "Episode: 8<br>Weighted Sentiment: -0.48<br>Title: Miri",
          "Episode: 9<br>Weighted Sentiment: -0.26<br>Title: Dagger Of The Mind",
          "Episode: 10<br>Weighted Sentiment: 0.15<br>Title: The Corbomite Maneuver",
          "Episode: 11<br>Weighted Sentiment: -0.25<br>Title: The Menagerie",
          "Episode: 12<br>Weighted Sentiment: 0.00<br>Title: The Menagerie, Part 2",
          "Episode: 13<br>Weighted Sentiment: 0.41<br>Title: The Conscience of the King",
          "Episode: 14<br>Weighted Sentiment: -0.13<br>Title: Balance of Terror",
          "Episode: 15<br>Weighted Sentiment: 0.52<br>Title: Shore Leave",
          "Episode: 16<br>Weighted Sentiment: 0.46<br>Title: The Galileo Seven",
          "Episode: 17<br>Weighted Sentiment: 0.20<br>Title: The Squire of Gothos",
          "Episode: 18<br>Weighted Sentiment: -0.12<br>Title: Arena",
          "Episode: 19<br>Weighted Sentiment: -0.14<br>Title: Tomorrow is Yesterday",
          "Episode: 20<br>Weighted Sentiment: 0.16<br>Title: Court Martial",
          "Episode: 21<br>Weighted Sentiment: 0.16<br>Title: The Return of The Archons",
          "Episode: 22<br>Weighted Sentiment: 0.37<br>Title: Space Seed",
          "Episode: 23<br>Weighted Sentiment: -0.03<br>Title: A Taste of Armageddon",
          "Episode: 24<br>Weighted Sentiment: 0.53<br>Title: This Side of Paradise",
          "Episode: 25<br>Weighted Sentiment: 0.23<br>Title: The Devil In The Dark",
          "Episode: 26<br>Weighted Sentiment: 0.00<br>Title: Errand of Mercy",
          "Episode: 27<br>Weighted Sentiment: 0.14<br>Title: The Alternative Factor",
          "Episode: 28<br>Weighted Sentiment: 0.36<br>Title: The City on the Edge of Forever",
          "Episode: 29<br>Weighted Sentiment: -0.60<br>Title: Operation: Annihilate!",
          "Episode: 30<br>Weighted Sentiment: -0.56<br>Title: Amok Time",
          "Episode: 31<br>Weighted Sentiment: -0.34<br>Title: Who Mourns For Adonais?",
          "Episode: 32<br>Weighted Sentiment: 0.08<br>Title: The Changeling",
          "Episode: 33<br>Weighted Sentiment: 0.06<br>Title: Mirror, Mirror",
          "Episode: 34<br>Weighted Sentiment: 0.29<br>Title: The Apple",
          "Episode: 35<br>Weighted Sentiment: 0.07<br>Title: The Doomsday Machine",
          "Episode: 36<br>Weighted Sentiment: 0.06<br>Title: Catspaw",
          "Episode: 37<br>Weighted Sentiment: -0.31<br>Title: I, Mudd",
          "Episode: 38<br>Weighted Sentiment: 0.44<br>Title: Metamorphosis",
          "Episode: 39<br>Weighted Sentiment: -0.74<br>Title: Journey to Babel",
          "Episode: 40<br>Weighted Sentiment: 0.55<br>Title: Friday's Child",
          "Episode: 41<br>Weighted Sentiment: 0.69<br>Title: The Deadly Years",
          "Episode: 42<br>Weighted Sentiment: -0.62<br>Title: Obsession",
          "Episode: 43<br>Weighted Sentiment: -0.48<br>Title: Wolf In The Fold",
          "Episode: 44<br>Weighted Sentiment: 0.39<br>Title: The Trouble With Tribbles",
          "Episode: 45<br>Weighted Sentiment: 0.11<br>Title: The Gamesters Of Triskelion",
          "Episode: 46<br>Weighted Sentiment: 0.06<br>Title: A Piece Of The Action",
          "Episode: 47<br>Weighted Sentiment: -0.68<br>Title: The Immunity Syndrome",
          "Episode: 48<br>Weighted Sentiment: -0.47<br>Title: A Private Little War",
          "Episode: 49<br>Weighted Sentiment: -0.61<br>Title: Return To Tomorrow",
          "Episode: 50<br>Weighted Sentiment: 0.21<br>Title: Patterns Of Force",
          "Episode: 51<br>Weighted Sentiment: -0.37<br>Title: By Any Other Name",
          "Episode: 52<br>Weighted Sentiment: 0.38<br>Title: The Omega Glory",
          "Episode: 53<br>Weighted Sentiment: -0.58<br>Title: The Ultimate Computer",
          "Episode: 54<br>Weighted Sentiment: 0.39<br>Title: Bread And Circuses",
          "Episode: 55<br>Weighted Sentiment: 0.04<br>Title: Assignment: Earth",
          "Episode: 56<br>Weighted Sentiment: 0.60<br>Title: Spock's Brain",
          "Episode: 57<br>Weighted Sentiment: -0.29<br>Title: The Enterprise Incident",
          "Episode: 58<br>Weighted Sentiment: -0.45<br>Title: The Paradise Syndrome",
          "Episode: 59<br>Weighted Sentiment: -0.22<br>Title: And The Children Shall Lead",
          "Episode: 60<br>Weighted Sentiment: -0.32<br>Title: Is There In Truth No Beauty?",
          "Episode: 61<br>Weighted Sentiment: -0.41<br>Title: Spectre Of The Gun",
          "Episode: 62<br>Weighted Sentiment: -0.12<br>Title: The Day Of The Dove",
          "Episode: 63<br>Weighted Sentiment: 0.64<br>Title: For The World Is Hollow And\r",
          "Episode: 64<br>Weighted Sentiment: 0.99<br>Title: The Tholian Web",
          "Episode: 65<br>Weighted Sentiment: -0.39<br>Title: Plato's Stepchildren",
          "Episode: 66<br>Weighted Sentiment: 0.16<br>Title: Wink Of An Eye",
          "Episode: 67<br>Weighted Sentiment: 0.65<br>Title: The Empath",
          "Episode: 68<br>Weighted Sentiment: -0.22<br>Title: Elaan of Troyius",
          "Episode: 69<br>Weighted Sentiment: -0.07<br>Title: Whom Gods Destroy",
          "Episode: 70<br>Weighted Sentiment: 0.11<br>Title: Let That Be Your Last\r",
          "Episode: 71<br>Weighted Sentiment: 0.13<br>Title: The Mark Of Gideon",
          "Episode: 72<br>Weighted Sentiment: 0.27<br>Title: That Which Survives",
          "Episode: 73<br>Weighted Sentiment: -0.58<br>Title: The Lights Of Zetar",
          "Episode: 74<br>Weighted Sentiment: 0.54<br>Title: Requiem For Methuselah",
          "Episode: 75<br>Weighted Sentiment: 0.20<br>Title: The Way To Eden",
          "Episode: 76<br>Weighted Sentiment: 0.06<br>Title: The Cloud Minders",
          "Episode: 77<br>Weighted Sentiment: 0.25<br>Title: The Savage Curtain",
          "Episode: 78<br>Weighted Sentiment: -0.59<br>Title: All Our Yesterdays",
          "Episode: 79<br>Weighted Sentiment: 0.61<br>Title: Turnabout Intruder"
         ],
         "type": "scatter",
         "x": [
          0,
          1,
          2,
          3,
          4,
          5,
          6,
          7,
          8,
          9,
          10,
          11,
          12,
          13,
          14,
          15,
          16,
          17,
          18,
          19,
          20,
          21,
          22,
          23,
          24,
          25,
          26,
          27,
          28,
          29,
          30,
          31,
          32,
          33,
          34,
          35,
          36,
          37,
          38,
          39,
          40,
          41,
          42,
          43,
          44,
          45,
          46,
          47,
          48,
          49,
          50,
          51,
          52,
          53,
          54,
          55,
          56,
          57,
          58,
          59,
          60,
          61,
          62,
          63,
          64,
          65,
          66,
          67,
          68,
          69,
          70,
          71,
          72,
          73,
          74,
          75,
          76,
          77,
          78,
          79
         ],
         "y": [
          0,
          0.6206384715025907,
          0.25183905440414506,
          0,
          -0.1473458549222798,
          0.19559935233160622,
          0.1930874352331606,
          0,
          -0.4841062176165803,
          -0.2601534974093264,
          0.15046308290155438,
          -0.2532683937823834,
          0,
          0.4091968911917098,
          -0.13009455958549224,
          0.5181586787564767,
          0.45575440414507773,
          0.20091269430051814,
          -0.11881865284974094,
          -0.13941023316062176,
          0.15881897668393782,
          0.1564981865284974,
          0.3706502590673575,
          -0.02686943005181347,
          0.5307330310880829,
          0.22783082901554405,
          0,
          0.1366786269430052,
          0.3601332901554404,
          -0.6018176165803109,
          -0.5595751295336788,
          -0.3365556994818653,
          0.08207253886010363,
          0.06275129533678757,
          0.2899370466321244,
          0.07344637305699481,
          0.06259054404145077,
          -0.31125414507772026,
          0.43964158031088085,
          -0.7384481865284974,
          0.5499441709844559,
          0.6936158031088083,
          -0.6197457901554404,
          -0.48122279792746114,
          0.38991217616580315,
          0.10727253886010363,
          0.06174391191709845,
          -0.6845432642487046,
          -0.4727133419689119,
          -0.6065077720207254,
          0.21060621761658033,
          -0.37341217616580313,
          0.3783796632124352,
          -0.5838471502590674,
          0.38555207253886015,
          0.035233160621761656,
          0.5994050518134716,
          -0.2928497409326425,
          -0.4531402202072539,
          -0.21668076424870467,
          -0.3219488341968912,
          -0.4088506476683938,
          -0.11852020725388601,
          0.6413968911917098,
          0.992,
          -0.3922181347150259,
          0.15726683937823835,
          0.6541997409326424,
          -0.21575317357512955,
          -0.06867098445595854,
          0.10827305699481865,
          0.1257761658031088,
          0.2706015544041451,
          -0.5752085492227978,
          0.5448170336787564,
          0.20233575129533682,
          0.0635440414507772,
          0.2498809585492228,
          -0.5903167098445596,
          0.6061946891191708
         ]
        }
       ],
       "layout": {
        "template": {
         "data": {
          "bar": [
           {
            "error_x": {
             "color": "#2a3f5f"
            },
            "error_y": {
             "color": "#2a3f5f"
            },
            "marker": {
             "line": {
              "color": "#E5ECF6",
              "width": 0.5
             },
             "pattern": {
              "fillmode": "overlay",
              "size": 10,
              "solidity": 0.2
             }
            },
            "type": "bar"
           }
          ],
          "barpolar": [
           {
            "marker": {
             "line": {
              "color": "#E5ECF6",
              "width": 0.5
             },
             "pattern": {
              "fillmode": "overlay",
              "size": 10,
              "solidity": 0.2
             }
            },
            "type": "barpolar"
           }
          ],
          "carpet": [
           {
            "aaxis": {
             "endlinecolor": "#2a3f5f",
             "gridcolor": "white",
             "linecolor": "white",
             "minorgridcolor": "white",
             "startlinecolor": "#2a3f5f"
            },
            "baxis": {
             "endlinecolor": "#2a3f5f",
             "gridcolor": "white",
             "linecolor": "white",
             "minorgridcolor": "white",
             "startlinecolor": "#2a3f5f"
            },
            "type": "carpet"
           }
          ],
          "choropleth": [
           {
            "colorbar": {
             "outlinewidth": 0,
             "ticks": ""
            },
            "type": "choropleth"
           }
          ],
          "contour": [
           {
            "colorbar": {
             "outlinewidth": 0,
             "ticks": ""
            },
            "colorscale": [
             [
              0,
              "#0d0887"
             ],
             [
              0.1111111111111111,
              "#46039f"
             ],
             [
              0.2222222222222222,
              "#7201a8"
             ],
             [
              0.3333333333333333,
              "#9c179e"
             ],
             [
              0.4444444444444444,
              "#bd3786"
             ],
             [
              0.5555555555555556,
              "#d8576b"
             ],
             [
              0.6666666666666666,
              "#ed7953"
             ],
             [
              0.7777777777777778,
              "#fb9f3a"
             ],
             [
              0.8888888888888888,
              "#fdca26"
             ],
             [
              1,
              "#f0f921"
             ]
            ],
            "type": "contour"
           }
          ],
          "contourcarpet": [
           {
            "colorbar": {
             "outlinewidth": 0,
             "ticks": ""
            },
            "type": "contourcarpet"
           }
          ],
          "heatmap": [
           {
            "colorbar": {
             "outlinewidth": 0,
             "ticks": ""
            },
            "colorscale": [
             [
              0,
              "#0d0887"
             ],
             [
              0.1111111111111111,
              "#46039f"
             ],
             [
              0.2222222222222222,
              "#7201a8"
             ],
             [
              0.3333333333333333,
              "#9c179e"
             ],
             [
              0.4444444444444444,
              "#bd3786"
             ],
             [
              0.5555555555555556,
              "#d8576b"
             ],
             [
              0.6666666666666666,
              "#ed7953"
             ],
             [
              0.7777777777777778,
              "#fb9f3a"
             ],
             [
              0.8888888888888888,
              "#fdca26"
             ],
             [
              1,
              "#f0f921"
             ]
            ],
            "type": "heatmap"
           }
          ],
          "heatmapgl": [
           {
            "colorbar": {
             "outlinewidth": 0,
             "ticks": ""
            },
            "colorscale": [
             [
              0,
              "#0d0887"
             ],
             [
              0.1111111111111111,
              "#46039f"
             ],
             [
              0.2222222222222222,
              "#7201a8"
             ],
             [
              0.3333333333333333,
              "#9c179e"
             ],
             [
              0.4444444444444444,
              "#bd3786"
             ],
             [
              0.5555555555555556,
              "#d8576b"
             ],
             [
              0.6666666666666666,
              "#ed7953"
             ],
             [
              0.7777777777777778,
              "#fb9f3a"
             ],
             [
              0.8888888888888888,
              "#fdca26"
             ],
             [
              1,
              "#f0f921"
             ]
            ],
            "type": "heatmapgl"
           }
          ],
          "histogram": [
           {
            "marker": {
             "pattern": {
              "fillmode": "overlay",
              "size": 10,
              "solidity": 0.2
             }
            },
            "type": "histogram"
           }
          ],
          "histogram2d": [
           {
            "colorbar": {
             "outlinewidth": 0,
             "ticks": ""
            },
            "colorscale": [
             [
              0,
              "#0d0887"
             ],
             [
              0.1111111111111111,
              "#46039f"
             ],
             [
              0.2222222222222222,
              "#7201a8"
             ],
             [
              0.3333333333333333,
              "#9c179e"
             ],
             [
              0.4444444444444444,
              "#bd3786"
             ],
             [
              0.5555555555555556,
              "#d8576b"
             ],
             [
              0.6666666666666666,
              "#ed7953"
             ],
             [
              0.7777777777777778,
              "#fb9f3a"
             ],
             [
              0.8888888888888888,
              "#fdca26"
             ],
             [
              1,
              "#f0f921"
             ]
            ],
            "type": "histogram2d"
           }
          ],
          "histogram2dcontour": [
           {
            "colorbar": {
             "outlinewidth": 0,
             "ticks": ""
            },
            "colorscale": [
             [
              0,
              "#0d0887"
             ],
             [
              0.1111111111111111,
              "#46039f"
             ],
             [
              0.2222222222222222,
              "#7201a8"
             ],
             [
              0.3333333333333333,
              "#9c179e"
             ],
             [
              0.4444444444444444,
              "#bd3786"
             ],
             [
              0.5555555555555556,
              "#d8576b"
             ],
             [
              0.6666666666666666,
              "#ed7953"
             ],
             [
              0.7777777777777778,
              "#fb9f3a"
             ],
             [
              0.8888888888888888,
              "#fdca26"
             ],
             [
              1,
              "#f0f921"
             ]
            ],
            "type": "histogram2dcontour"
           }
          ],
          "mesh3d": [
           {
            "colorbar": {
             "outlinewidth": 0,
             "ticks": ""
            },
            "type": "mesh3d"
           }
          ],
          "parcoords": [
           {
            "line": {
             "colorbar": {
              "outlinewidth": 0,
              "ticks": ""
             }
            },
            "type": "parcoords"
           }
          ],
          "pie": [
           {
            "automargin": true,
            "type": "pie"
           }
          ],
          "scatter": [
           {
            "fillpattern": {
             "fillmode": "overlay",
             "size": 10,
             "solidity": 0.2
            },
            "type": "scatter"
           }
          ],
          "scatter3d": [
           {
            "line": {
             "colorbar": {
              "outlinewidth": 0,
              "ticks": ""
             }
            },
            "marker": {
             "colorbar": {
              "outlinewidth": 0,
              "ticks": ""
             }
            },
            "type": "scatter3d"
           }
          ],
          "scattercarpet": [
           {
            "marker": {
             "colorbar": {
              "outlinewidth": 0,
              "ticks": ""
             }
            },
            "type": "scattercarpet"
           }
          ],
          "scattergeo": [
           {
            "marker": {
             "colorbar": {
              "outlinewidth": 0,
              "ticks": ""
             }
            },
            "type": "scattergeo"
           }
          ],
          "scattergl": [
           {
            "marker": {
             "colorbar": {
              "outlinewidth": 0,
              "ticks": ""
             }
            },
            "type": "scattergl"
           }
          ],
          "scattermapbox": [
           {
            "marker": {
             "colorbar": {
              "outlinewidth": 0,
              "ticks": ""
             }
            },
            "type": "scattermapbox"
           }
          ],
          "scatterpolar": [
           {
            "marker": {
             "colorbar": {
              "outlinewidth": 0,
              "ticks": ""
             }
            },
            "type": "scatterpolar"
           }
          ],
          "scatterpolargl": [
           {
            "marker": {
             "colorbar": {
              "outlinewidth": 0,
              "ticks": ""
             }
            },
            "type": "scatterpolargl"
           }
          ],
          "scatterternary": [
           {
            "marker": {
             "colorbar": {
              "outlinewidth": 0,
              "ticks": ""
             }
            },
            "type": "scatterternary"
           }
          ],
          "surface": [
           {
            "colorbar": {
             "outlinewidth": 0,
             "ticks": ""
            },
            "colorscale": [
             [
              0,
              "#0d0887"
             ],
             [
              0.1111111111111111,
              "#46039f"
             ],
             [
              0.2222222222222222,
              "#7201a8"
             ],
             [
              0.3333333333333333,
              "#9c179e"
             ],
             [
              0.4444444444444444,
              "#bd3786"
             ],
             [
              0.5555555555555556,
              "#d8576b"
             ],
             [
              0.6666666666666666,
              "#ed7953"
             ],
             [
              0.7777777777777778,
              "#fb9f3a"
             ],
             [
              0.8888888888888888,
              "#fdca26"
             ],
             [
              1,
              "#f0f921"
             ]
            ],
            "type": "surface"
           }
          ],
          "table": [
           {
            "cells": {
             "fill": {
              "color": "#EBF0F8"
             },
             "line": {
              "color": "white"
             }
            },
            "header": {
             "fill": {
              "color": "#C8D4E3"
             },
             "line": {
              "color": "white"
             }
            },
            "type": "table"
           }
          ]
         },
         "layout": {
          "annotationdefaults": {
           "arrowcolor": "#2a3f5f",
           "arrowhead": 0,
           "arrowwidth": 1
          },
          "autotypenumbers": "strict",
          "coloraxis": {
           "colorbar": {
            "outlinewidth": 0,
            "ticks": ""
           }
          },
          "colorscale": {
           "diverging": [
            [
             0,
             "#8e0152"
            ],
            [
             0.1,
             "#c51b7d"
            ],
            [
             0.2,
             "#de77ae"
            ],
            [
             0.3,
             "#f1b6da"
            ],
            [
             0.4,
             "#fde0ef"
            ],
            [
             0.5,
             "#f7f7f7"
            ],
            [
             0.6,
             "#e6f5d0"
            ],
            [
             0.7,
             "#b8e186"
            ],
            [
             0.8,
             "#7fbc41"
            ],
            [
             0.9,
             "#4d9221"
            ],
            [
             1,
             "#276419"
            ]
           ],
           "sequential": [
            [
             0,
             "#0d0887"
            ],
            [
             0.1111111111111111,
             "#46039f"
            ],
            [
             0.2222222222222222,
             "#7201a8"
            ],
            [
             0.3333333333333333,
             "#9c179e"
            ],
            [
             0.4444444444444444,
             "#bd3786"
            ],
            [
             0.5555555555555556,
             "#d8576b"
            ],
            [
             0.6666666666666666,
             "#ed7953"
            ],
            [
             0.7777777777777778,
             "#fb9f3a"
            ],
            [
             0.8888888888888888,
             "#fdca26"
            ],
            [
             1,
             "#f0f921"
            ]
           ],
           "sequentialminus": [
            [
             0,
             "#0d0887"
            ],
            [
             0.1111111111111111,
             "#46039f"
            ],
            [
             0.2222222222222222,
             "#7201a8"
            ],
            [
             0.3333333333333333,
             "#9c179e"
            ],
            [
             0.4444444444444444,
             "#bd3786"
            ],
            [
             0.5555555555555556,
             "#d8576b"
            ],
            [
             0.6666666666666666,
             "#ed7953"
            ],
            [
             0.7777777777777778,
             "#fb9f3a"
            ],
            [
             0.8888888888888888,
             "#fdca26"
            ],
            [
             1,
             "#f0f921"
            ]
           ]
          },
          "colorway": [
           "#636efa",
           "#EF553B",
           "#00cc96",
           "#ab63fa",
           "#FFA15A",
           "#19d3f3",
           "#FF6692",
           "#B6E880",
           "#FF97FF",
           "#FECB52"
          ],
          "font": {
           "color": "#2a3f5f"
          },
          "geo": {
           "bgcolor": "white",
           "lakecolor": "white",
           "landcolor": "#E5ECF6",
           "showlakes": true,
           "showland": true,
           "subunitcolor": "white"
          },
          "hoverlabel": {
           "align": "left"
          },
          "hovermode": "closest",
          "mapbox": {
           "style": "light"
          },
          "paper_bgcolor": "white",
          "plot_bgcolor": "#E5ECF6",
          "polar": {
           "angularaxis": {
            "gridcolor": "white",
            "linecolor": "white",
            "ticks": ""
           },
           "bgcolor": "#E5ECF6",
           "radialaxis": {
            "gridcolor": "white",
            "linecolor": "white",
            "ticks": ""
           }
          },
          "scene": {
           "xaxis": {
            "backgroundcolor": "#E5ECF6",
            "gridcolor": "white",
            "gridwidth": 2,
            "linecolor": "white",
            "showbackground": true,
            "ticks": "",
            "zerolinecolor": "white"
           },
           "yaxis": {
            "backgroundcolor": "#E5ECF6",
            "gridcolor": "white",
            "gridwidth": 2,
            "linecolor": "white",
            "showbackground": true,
            "ticks": "",
            "zerolinecolor": "white"
           },
           "zaxis": {
            "backgroundcolor": "#E5ECF6",
            "gridcolor": "white",
            "gridwidth": 2,
            "linecolor": "white",
            "showbackground": true,
            "ticks": "",
            "zerolinecolor": "white"
           }
          },
          "shapedefaults": {
           "line": {
            "color": "#2a3f5f"
           }
          },
          "ternary": {
           "aaxis": {
            "gridcolor": "white",
            "linecolor": "white",
            "ticks": ""
           },
           "baxis": {
            "gridcolor": "white",
            "linecolor": "white",
            "ticks": ""
           },
           "bgcolor": "#E5ECF6",
           "caxis": {
            "gridcolor": "white",
            "linecolor": "white",
            "ticks": ""
           }
          },
          "title": {
           "x": 0.05
          },
          "xaxis": {
           "automargin": true,
           "gridcolor": "white",
           "linecolor": "white",
           "ticks": "",
           "title": {
            "standoff": 15
           },
           "zerolinecolor": "white",
           "zerolinewidth": 2
          },
          "yaxis": {
           "automargin": true,
           "gridcolor": "white",
           "linecolor": "white",
           "ticks": "",
           "title": {
            "standoff": 15
           },
           "zerolinecolor": "white",
           "zerolinewidth": 2
          }
         }
        },
        "title": {
         "text": "Weighted Sentiment Score Per Episode for Each Character"
        },
        "xaxis": {
         "title": {
          "text": "Episode"
         }
        },
        "yaxis": {
         "title": {
          "text": "Weighted Sentiment Score"
         }
        }
       }
      }
     },
     "metadata": {},
     "output_type": "display_data"
    }
   ],
   "source": [
    "traces = []\n",
    "\n",
    "for char in characters_of_interest:\n",
    "    # Merge sentiment scores and word counts per character per episode\n",
    "    counts = pd.DataFrame(word_counts[char]) \n",
    "    char_data = pd.merge(merged_df[char], counts, left_index=True, right_index=True)\n",
    "    char_data.columns = ['sent_per_episode', 'word count']\n",
    "    \n",
    "    # Normalize word counts\n",
    "    max_word_count = char_data['word count'].max()\n",
    "    char_data['normalized_word_count'] = char_data['word count'] / max_word_count\n",
    "    \n",
    "    # Calculate weighted sentiment score per episode\n",
    "    char_data['weighted_sentiment'] = char_data['sent_per_episode'] * char_data['normalized_word_count']\n",
    "    \n",
    "    title_values = series_lines_raw_df['Title']\n",
    "    \n",
    "    # Create a Plotly trace for the character\n",
    "    trace = go.Scatter(\n",
    "        x=char_data.index,  # Episode numbers\n",
    "        y=char_data['weighted_sentiment'],\n",
    "        mode='lines+markers',\n",
    "        name=char,\n",
    "        text=[f'Episode: {episode}<br>Weighted Sentiment: {sentiment:.2f}<br>Title: {title}' \n",
    "              for episode, sentiment, title in zip(char_data.index, \n",
    "                                                    char_data['weighted_sentiment'], \n",
    "                                                    title_values)],  # Include 'Title' values in hover text\n",
    "        hoverinfo='text'\n",
    "    )\n",
    "    traces.append(trace)\n",
    "\n",
    "# Create the layout for the plot\n",
    "layout = go.Layout(\n",
    "    title='Weighted Sentiment Score Per Episode for Each Character',\n",
    "    xaxis=dict(title='Episode'),\n",
    "    yaxis=dict(title='Weighted Sentiment Score')\n",
    ")\n",
    "\n",
    "# Create the Plotly figure\n",
    "fig = go.Figure(data=traces, layout=layout)\n",
    "\n",
    "# Show the plot\n",
    "fig.show()"
   ]
  },
  {
   "cell_type": "code",
   "execution_count": 34,
   "metadata": {},
   "outputs": [],
   "source": [
    "%store -r series_lines_clean_df"
   ]
  },
  {
   "cell_type": "code",
   "execution_count": 35,
   "metadata": {},
   "outputs": [
    {
     "data": {
      "text/html": [
       "<div>\n",
       "<style scoped>\n",
       "    .dataframe tbody tr th:only-of-type {\n",
       "        vertical-align: middle;\n",
       "    }\n",
       "\n",
       "    .dataframe tbody tr th {\n",
       "        vertical-align: top;\n",
       "    }\n",
       "\n",
       "    .dataframe thead th {\n",
       "        text-align: right;\n",
       "    }\n",
       "</style>\n",
       "<table border=\"1\" class=\"dataframe\">\n",
       "  <thead>\n",
       "    <tr style=\"text-align: right;\">\n",
       "      <th></th>\n",
       "      <th>episode</th>\n",
       "      <th>cumulative_sentiment</th>\n",
       "      <th>Title</th>\n",
       "    </tr>\n",
       "  </thead>\n",
       "  <tbody>\n",
       "    <tr>\n",
       "      <th>0</th>\n",
       "      <td>SPOCK: Check the circuit. \\r\\nTYLER: All opera...</td>\n",
       "      <td>[0.0, 0.0, 0.4019, 0.0, -0.296, -0.3612, 0.0, ...</td>\n",
       "      <td>NaN</td>\n",
       "    </tr>\n",
       "    <tr>\n",
       "      <th>1</th>\n",
       "      <td>KIRK: Shall we pick some flowers, Doctor? When...</td>\n",
       "      <td>[0.3612, 0.3612, 0.0, -0.4696, 0.4215, 0.0, 0....</td>\n",
       "      <td>NaN</td>\n",
       "    </tr>\n",
       "    <tr>\n",
       "      <th>2</th>\n",
       "      <td>KIRK: All right, Chief, begin materialisation....</td>\n",
       "      <td>[0.0, 0.0, 0.0, 0.0, 0.0, 0.802, 0.8176, 0.831...</td>\n",
       "      <td>NaN</td>\n",
       "    </tr>\n",
       "    <tr>\n",
       "      <th>3</th>\n",
       "      <td>SPOCK: Your move, Captain. \\r\\nKIRK: We should...</td>\n",
       "      <td>[0.0, 0.0, 0.0, -0.2247, -0.0772, 0.5862, 0.0,...</td>\n",
       "      <td>NaN</td>\n",
       "    </tr>\n",
       "    <tr>\n",
       "      <th>4</th>\n",
       "      <td>SPOCK: Check out the life-support systems. \\r\\...</td>\n",
       "      <td>[0.0, 0.0, -0.5423, -0.6486, 0.0, -0.033, 0.0,...</td>\n",
       "      <td>NaN</td>\n",
       "    </tr>\n",
       "    <tr>\n",
       "      <th>...</th>\n",
       "      <td>...</td>\n",
       "      <td>...</td>\n",
       "      <td>...</td>\n",
       "    </tr>\n",
       "    <tr>\n",
       "      <th>75</th>\n",
       "      <td>SPOCK: It is definitely the stolen space cruis...</td>\n",
       "      <td>[-0.1027, 0.0, 0.0, -0.296, -0.4215, 0.0, 0.0,...</td>\n",
       "      <td>NaN</td>\n",
       "    </tr>\n",
       "    <tr>\n",
       "      <th>76</th>\n",
       "      <td>KIRK: At Federation orders, we're\\r proceeding...</td>\n",
       "      <td>[0.2023, 0.3612, 0.0, 0.0, -0.34, 0.0, 0.0, 0....</td>\n",
       "      <td>NaN</td>\n",
       "    </tr>\n",
       "    <tr>\n",
       "      <th>77</th>\n",
       "      <td>SULU: All observation stations, take final\\r r...</td>\n",
       "      <td>[0.0, 0.0, 0.0, 0.0, 0.2732, 0.0, 0.0, -0.5719...</td>\n",
       "      <td>NaN</td>\n",
       "    </tr>\n",
       "    <tr>\n",
       "      <th>78</th>\n",
       "      <td>SPOCK: The power source we detected is in this...</td>\n",
       "      <td>[0.0, 0.0, -0.296, -0.2263, -0.6705, 0.25, 0.3...</td>\n",
       "      <td>NaN</td>\n",
       "    </tr>\n",
       "    <tr>\n",
       "      <th>79</th>\n",
       "      <td>KIRK: What's wrong with her? \\r\\nCOLEMAN: Expo...</td>\n",
       "      <td>[-0.4767, 0.0, 0.0, 0.0, 0.0, 0.4019, 0.0, 0.3...</td>\n",
       "      <td>NaN</td>\n",
       "    </tr>\n",
       "  </tbody>\n",
       "</table>\n",
       "<p>80 rows × 3 columns</p>\n",
       "</div>"
      ],
      "text/plain": [
       "                                              episode  \\\n",
       "0   SPOCK: Check the circuit. \\r\\nTYLER: All opera...   \n",
       "1   KIRK: Shall we pick some flowers, Doctor? When...   \n",
       "2   KIRK: All right, Chief, begin materialisation....   \n",
       "3   SPOCK: Your move, Captain. \\r\\nKIRK: We should...   \n",
       "4   SPOCK: Check out the life-support systems. \\r\\...   \n",
       "..                                                ...   \n",
       "75  SPOCK: It is definitely the stolen space cruis...   \n",
       "76  KIRK: At Federation orders, we're\\r proceeding...   \n",
       "77  SULU: All observation stations, take final\\r r...   \n",
       "78  SPOCK: The power source we detected is in this...   \n",
       "79  KIRK: What's wrong with her? \\r\\nCOLEMAN: Expo...   \n",
       "\n",
       "                                 cumulative_sentiment Title  \n",
       "0   [0.0, 0.0, 0.4019, 0.0, -0.296, -0.3612, 0.0, ...   NaN  \n",
       "1   [0.3612, 0.3612, 0.0, -0.4696, 0.4215, 0.0, 0....   NaN  \n",
       "2   [0.0, 0.0, 0.0, 0.0, 0.0, 0.802, 0.8176, 0.831...   NaN  \n",
       "3   [0.0, 0.0, 0.0, -0.2247, -0.0772, 0.5862, 0.0,...   NaN  \n",
       "4   [0.0, 0.0, -0.5423, -0.6486, 0.0, -0.033, 0.0,...   NaN  \n",
       "..                                                ...   ...  \n",
       "75  [-0.1027, 0.0, 0.0, -0.296, -0.4215, 0.0, 0.0,...   NaN  \n",
       "76  [0.2023, 0.3612, 0.0, 0.0, -0.34, 0.0, 0.0, 0....   NaN  \n",
       "77  [0.0, 0.0, 0.0, 0.0, 0.2732, 0.0, 0.0, -0.5719...   NaN  \n",
       "78  [0.0, 0.0, -0.296, -0.2263, -0.6705, 0.25, 0.3...   NaN  \n",
       "79  [-0.4767, 0.0, 0.0, 0.0, 0.0, 0.4019, 0.0, 0.3...   NaN  \n",
       "\n",
       "[80 rows x 3 columns]"
      ]
     },
     "execution_count": 35,
     "metadata": {},
     "output_type": "execute_result"
    }
   ],
   "source": [
    "series_lines_clean_df"
   ]
  },
  {
   "cell_type": "code",
   "execution_count": null,
   "metadata": {},
   "outputs": [
    {
     "data": {
      "text/plain": [
       "array([\"KIRK: All right, Chief, begin materialisation.\\r Captain Ramart, I'm Captain Kirk. \\r\\nRAMART: This is my navigator Tom Nellis. \\r\\nKIRK: How do you do? \\r\\nNELLIS: How do you do? \\r\\nRAMART: And this is our young castaway Charlie, Charlie Evans. His\\r dossier. \\r\\nKIRK: Mister Evans. We've heard a great deal about you. Welcome aboard.\\r \\r\\nRAMART: Wonderful boy, Charlie. Its been an honour having him aboard. \\r\\nNELLIS: Why, it's been a great pleasure. The things that he's learned\\r in the last \\r\\nRAMART: Absolutely. To think this boy spent practically his whole life\\r alone on that planet. Everyone killed, just a few microtapes to learn\\r from. \\r\\nCHARLIE: How many humans like me on this ship? \\r\\nRAMART: Like a whole city in space, Charlie. Over four hundred in the\\r crew of a starship, aren't there, Captain? \\r\\nKIRK: Four hundred and twenty eight, to be exact. Is there anything we\\r can do for you, Captain? Medical supplies, provisions? \\r\\nCHARLIE: Hundreds. All human, like me. That's exciting. Is that the\\r right word? \\r\\nNELLIS: That's perfect. It's the exact word. \\r\\nRAMART: You see. We'd like to keep Charlie with us, but with his\\r closest living relatives on Colony Five and your vessel going that way,\\r why \\r\\nCHARLIE: I'd like to see your ship now. All of it. The people and\\r everything. \\r\\nKIRK: You keep interrupting, Mister Evans. That's considered wrong. \\r\\nCHARLIE: I'm sorry. \\r\\nKIRK: We have a large supply of entertainment tapes, gentlemen. \\r\\nRAMART: No, we've a tight schedule to make, Captain. Just twenty of us,\\r we're making out fine. \\r\\nKIRK: This must be a space first. A transport ship that doesn't need\\r anything? \\r\\nRAMART: Nothing. \\r\\nKIRK: Not even Sarian brandy? \\r\\nRAMART: We're fine, thank you. Pleasant journey, Captain. \\r\\nKIRK: Thank you. \\r\\nKIRK: Yeoman Rand, this is Charles Evans. Show him to his quarters and\\r drop his records off at Doctor McCoy's office, if you will. \\r\\nRAND: Yes, sir. Come with me, please. \\r\\nCHARLIE: Are you a girl? Is that a girl? \\r\\nKIRK: That's a girl.\\r\\nMCCOY: Tell me. The ship's supply of food\\r concentrates couldn't have lasted fourteen years. \\r\\nCHARLIE: After that I found other things to eat, just growing around. \\r\\nMCCOY: And you learned to talk by just listening to the ship's tapes? \\r\\nCHARLIE: The memory banks still worked. They talked to me, and I talked\\r back. \\r\\nMCCOY: You're four-oh. \\r\\nCHARLIE: Four? \\r\\nMCCOY: Four-oh. One hundred percent. Sound of wind and limb. \\r\\nCHARLIE: That, that Captain. Kirk? \\r\\nMCCOY: Yeah. \\r\\nCHARLIE: Why does he call me Mister Evans? \\r\\nMCCOY: Because that's your name. \\r\\nCHARLIE: He's not, well, he isn't like Captain Ramart. \\r\\nMCCOY: Well, no. Captain Kirk is one of a kind, Charlie. \\r\\nCHARLIE: Do you like me? \\r\\nMCCOY: Why not? \\r\\nCHARLIE: Some, the other ship, they didn't like me. I tried. I'm trying\\r to make people like me. I want them to like me. \\r\\nMCCOY: Most seventeen year olds do. Come on, let's go. I'll show you to\\r your quarters.\\r CREWMAN 1: Hey, I'll put the equipment away. See\\r you in the rec room, huh? \\r CREWMAN 2: You got a deal, friend. \\r CREWMAN 1: All right. Hello.\\r\\nCHARLIE: I brought you a present.\\r  \\r\\nRAND: Oh, thank you. I really appreciate it, but, but I have to go. I'm\\r on duty. \\r\\nCHARLIE: Do you like that kind? \\r\\nRAND: Yes, I, it's my favourite. Where did you get it? They don't have\\r any in the ship's stores.\\r\\nCHARLIE: It's a present. \\r\\nRAND: I know, but where did? Gee, I'm late, Charlie. I really have to\\r go. \\r\\nCHARLIE: Can't you stay and talk a little while? \\r\\nRAND: Look, I'm off duty at fourteen hundred. Why don't you join me in\\r recreation room six, deck three. \\r\\nCHARLIE: You got a deal, friend. \\r\\nRAND: Charlie! \\r\\nCHARLIE: I thought. Don't be angry. I didn't, I wanted. \\r\\nRAND: Charlie, you, you, you just don't go around slapping girls on\\r the. It's okay, but er, just don't do it again. \\r\\nCHARLIE: Don't be angry. \\r\\nRAND: Look, why don't you tell Captain Kirk or Doctor McCoy what you\\r did. They'll explain it to you. Okay? \\r\\nCHARLIE: I will. \\r\\nRAND: Okay.\\r\\nMCCOY: But tell me, what reason would he have to\\r lie if there are Thasians? \\r\\nSPOCK: That is a very intriguing question. Scanners show no\\r disturbances in this quadrant, Captain. \\r\\nKIRK: Good. Doctor McCoy, Mister Spock is working out \\r\\nUHURA: Excuse me, Captain. Status report. \\r\\nKIRK: Thank you. He's working out a training programme for Charlie\\r Evans. Earth history, his own background, that sort of thing. I'd like\\r you to give him the necessary medical orientation on the problems of,\\r um, er, adolescence. \\r\\nMCCOY: Well, don't you think it'd be better for a strong father image\\r like you? He already looks up to you. \\r\\nKIRK: The job is yours, Bones. Flattery will get you nowhere. \\r\\nSPOCK: Doctor, didn't the boy make any reference at all to Thasians? \\r\\nKIRK: Do you believe the legend, Mister Spock, that Thasians still\\r exist on that planet in some form? \\r\\nSPOCK: Charlie's very existence proves in fact there must be some\\r intelligent form of life on Thasus. He could not possibly have survived\\r alone. The ship's food concentrates would have been exhausted in a year\\r or so. \\r\\nMCCOY: By which time he would have been eating fruits, vegetables. \\r\\nSPOCK: Probes of Thasus indicate very little edible plant life. \\r\\nMCCOY: And probes have been known to be wrong, Spock. \\r\\nMCCOY: Doctor, are you speaking scientifically or emotionally? \\r\\nKIRK: Gentlemen, the fact is the boy is here and he's alive and he\\r needs our help. \\r\\nMCCOY: And he needs a guide and he needs a father image, Jim. \\r\\nKIRK: Hmm. I'll depend on your astute abilities to supply him with\\r that, or find him one.\\r  \\r\\nUHURA: I'm sorry. I did it again, didn't I.\\r \\r\\nUHURA: Oh, on the starship Enterprise\\r There's someone who's in Satan's guise Whose devil ears and devil eyes\\r Could rip your heart from you. At first, his look could\\r hypnotise And then his touch would barbarise His alien love could\\r victimise And rip your heart from you. And that's why female\\r astronauts, Oh, very female astronauts Wait terrified and overwrought\\r To find what he will do. Oh, girls in space, be wary, be wary, be wary,\\r Girls in space, be wary. We know not what he'll do. \\r\\nRAND: One more time! \\r\\nUHURA: Now from a planet out in space, there comes a lad, not\\r commonplace. A-seeking out his first embrace. He's saving it for you.\\r Oh, Charlie's our new darling, our darling, our darling. Charlie's our\\r new darling. We know not what he'll do.\\r  \\r\\nCHARLIE: Want to see something? Turn them\\r over.\\r  \\r\\nRAND: Well, how did you do that? \\r\\nCHARLIE: Oh, I can do a lot of card tricks. One of the men on the\\r Antares showed me.\\r  \\r\\nRAND: I don't believe this!\\r \\r\\nKIRK: On Earth today, it's Thanksgiving. If the\\r crew has to eat synthetic meat loaf, I want it to look like turkey.\\r Charlie. \\r\\nCHARLIE: Captain? I'm supposed to ask you something. Why shouldn't I? I\\r don't know how to explain it. \\r\\nKIRK: Say it right out, Charlie. That usually works. \\r\\nCHARLIE: Well, in the corridor I saw. When Janice, when Yeoman Rand\\r was. I did that to her. She didn't like it. She\\r said you'd explain it to me. \\r\\nKIRK: Me. I see. Well, um, er, there are things you can do with a lady,\\r er, Charlie, that you er. There's no right way to hit a woman. I mean,\\r man to man is one thing, but, er, man and woman, er, it's, er, it's,\\r er. Well it's, er, another thing. Do you understand? \\r\\nCHARLIE: I don't know. \\r\\nUHURA: Captain Kirk. \\r\\nKIRK: Excuse me. Kirk here. \\r\\nUHURA: Captain Ramart of the Antares is on D channel. \\r\\nKIRK: I'm on my way to the Bridge now. \\r\\nCHARLIE: Can I come with you? \\r\\nKIRK: I don't think so, Charlie. \\r\\nCHARLIE: I won't get in the way. \\r\\nKIRK: Okay. \\nUHURA: Can you boost your power, Antares. We're\\r barely reading your transmission. \\r\\nRAMART: We're at full output, Enterprise. I must speak to Captain\\r Kirk. \\r\\nKIRK: Kirk here, Captain Ramart. \\r\\nRAMART: Captain, we're just barely in range. I've got to warn \\r\\nKIRK: Re-establish contact. \\r\\nUHURA: They're not transmitting. \\r\\nKIRK: Keep trying. \\r\\nCHARLIE: It wasn't very well constructed. \\r\\nKIRK: Sweep the area of the Antares transmission with our probe\\r scanners, Mister Spock. \\r\\nSPOCK: Affirmative, Captain. \\r\\nKIRK: You think something happened to the Antares, Charlie? \\r\\nCHARLIE: I don't know. \\r\\nSPOCK: Picking up some debris on our scanners, Captain. \\r\\nKIRK: What about the Antares? \\r\\nSPOCK: The debris is what's left of the Antares. \\r\\nCHEF: Captain Kirk from ship's Galley. \\r\\nKIRK: Kirk here. \\r\\nCHEF: Sir, I put meat loaf in the ovens. There's turkeys in there\\r now. Real turkeys. \\r\\nKIRK: Chief, have you been\\r \\r\\nSPOCK: Your mind is not on the game, Captain. Check. The Antares? \\r\\nKIRK: A survey ship with twenty men aboard lost. No reason. Obviously,\\r Captain Ramart was not aware of any trouble. I can't figure it. \\r\\nSPOCK: My own concern is more immediate. The boy. \\r\\nKIRK: I can usually follow you, Mister Spock, but this time? \\r\\nSPOCK: He seemed to know what happened to the Antares before we did. \\r\\nKIRK: I'd call it a pretty long reach for evidence, Mister Spock. Come\\r in, Charlie. \\r\\nSPOCK: And again, check. \\r\\nKIRK: Checkmate. \\r\\nSPOCK: Your illogical approach to chess does have its advantages on\\r occasion, Captain. \\r\\nKIRK: I prefer to call it inspired. \\r\\nSPOCK: As you wish. At any rate, the game is yours. \\r\\nKIRK: You play chess, Charlie? \\r\\nCHARLIE: Oh, I, I watched them play on the Antares. Can I try? \\r\\nKIRK: I place you in the hands of our chess master.\\r  \\r\\nSPOCK: The principles of three-dimensional chess are basically\\r mathematic, Charlie. You put the white here and the black on the\\r secondary level. \\r\\nCHARLIE: I know what it is. Let's play. \\r\\nSPOCK: Very well. That was a mistake, Charlie.\\r \\r\\nCHARLIE: No, it wasn't. \\r\\nSPOCK: Checkmate. \\r\\nCHARLIE: No, it isn't. \\r\\nSPOCK: If you'll excuse me.\\r\\nRAND: Oh, Charlie. I was looking for you. I'd like\\r you to meet Tina Lawton, Yeoman Third Class. Charlie Evans. \\r\\nTINA: Hello, Charlie. \\r\\nRAND: I thought you might enjoy meeting someone your own age. \\r\\nCHARLIE: Can I talk to you, alone. \\r\\nRAND: Charlie, Tina's \\r\\nTINA: Excuse me. I must be wanted somewhere. \\r\\nRAND: That was, that was rude and completely uncalled-for. \\r\\nCHARLIE: But I don't need her. I want to talk to you. \\r\\nRAND: That's no excuse. You'd better learn that right now. You have to\\r live with people, Charlie. You're not alone anymore. \\r\\nCHARLIE: But she's not as. She doesn't. She's not the same. Not like\\r you. She's, she's just a girl. You're, you smell like a girl. All the\\r other girls on the ship they, they look just like Tina. You're the only\\r one who looks like you. You can understand, can't you? You know about\\r being with somebody? Wanting to be? If I had the whole universe I'd\\r give it to you. When I see you, I feel like I'm hungry all over.\\r Hungry. Do you know how that feels?\\r\\nKIRK: What? \\r\\nRAND: I wasn't sure I should, er, talk to you about this. \\r\\nKIRK: Charlie's a seventeen year old boy. \\r\\nRAND: Exactly, and he's \\r\\nKIRK: I talked to him about the swat.\\r\\nRAND: It's not that. Captain, I've seen the look before, and if\\r something isn't done, sooner or later I'm going to have to hurt him.\\r Tell him to leave me alone, and that wouldn't be good for him right\\r now. You see, I'm his first crush, his first love, and his first \\r\\nKIRK: Yes, Yeoman, I'll talk to him. I'll look into it. \\r\\nRAND: Thank you, sir.\\r\\nKIRK: Come in, Charlie. Er, Charlie. Charlie, do\\r you know anything about this chess piece? Did you notice anything\\r peculiar in them when we were using them this afternoon? \\r\\nCHARLIE: No, sir. Is that all? \\r\\nKIRK: Er, no. No, no. Sit down. Charlie, being seventeen is more than\\r how many years you've lived. It's a whole other thing.\\r Doctor McCoy could probably explain the biological conditions. Well,\\r let's, let's use a specific. Yeoman Rand is a woman. \\r\\nCHARLIE: Oh, I won't hit her like that anymore. \\r\\nKIRK: No, there's more to it than that.\\r\\nCHARLIE: Everything I do or say is wrong. I'm in the way, I don't know\\r the rules, and when I learn something and try to do it, suddenly I'm\\r wrong! \\r\\nKIRK: Now wait, wait. \\r\\nCHARLIE: I don't know what I am or what I'm supposed to be, or even\\r who. I don't know why I hurt so much inside all the time. \\r\\nKIRK: You'll live, believe me. There's nothing wrong with you that\\r hasn't gone wrong with every other human male since the model first\\r came up. \\r\\nCHARLIE: What if you care for someone? What do you do? \\r\\nKIRK: You go slow. You be gentle. I mean, it's not a one-way street,\\r you know, how you feel and that's all. It's how the girl feels, too.\\r Don't press, Charlie. If the girl feels anything for you at all, you'll\\r know it. Do you understand? \\r\\nCHARLIE: You don't think Janice. You. She could love me! \\r\\nKIRK: She's not the girl, Charlie. The years are wrong, for one thing,\\r and there are other things. \\r\\nCHARLIE: She can.\\r\\nKIRK: No, Charlie. \\r\\nCHARLIE: She is. \\r\\nKIRK: No.\\r\\nCHARLIE: But if I did what you said! If I was gentle! \\r\\nKIRK: Charlie, there are a million things in this universe you can have\\r and there are a million things you can't have. It's no fun facing that,\\r but that's the way things are. \\r\\nCHARLIE: Then what am I going to do? \\r\\nKIRK: Hang on tight and survive. Everybody does. \\r\\nCHARLIE: You don't. \\r\\nKIRK: Everybody, Charlie. Me, too. \\r\\nCHARLIE: I'm trying, but I don't know how. \\r\\nKIRK: Kirk here. \\r\\nUHURA: You asked to be notified when we were to make our course\\r adjustments, sir. \\r\\nKIRK: Ask Mister Spock to see to it. Charlie, come on with me.\\r\\nKIRK: You've got to slap the floor to absorb the\\r energy when you fall. Go ahead, try it. Like everything else, it takes\\r practice, Charlie. Try again. Good. That's much better. Here, now I'll\\r show you a shoulder roll. Try that. \\r\\nCHARLIE: I don't want to do that. \\r\\nKIRK: Well, it makes it hard to teach you \\r\\nCHARLIE: I don't want to do that. \\r\\nKIRK: All right, Charlie. Lesson's over for today. \\r\\nCHARLIE: You were going to teach me how to fight. \\r\\nKIRK: You have to learn to protect yourself in a fall before I do that.\\r It's more than teaching you to defend yourself. Charlie, I want you to\\r learn. Charlie? Hey, Sam, let me borrow you for a couple easy throws,\\r all right? \\r\\nSAM: Right. \\r\\nKIRK: Watch this, Charlie. That wasn't so bad, was it? Now I'll throw\\r him. Here we go, Sam. \\r\\nCHARLIE: That looks hard. \\r\\nSAM: Oh. \\r\\nKIRK: Come on, Charlie. Try it. Attaboy. Let's go.\\r  \\r\\nCHARLIE: Oh!\\r  \\r\\nKIRK: That wasn't so bad, was it? \\r\\nCHARLIE: Don't laugh at me. \\r\\nKIRK: Cool off. \\r\\nCHARLIE: Don't laugh at me!\\r  \\r\\nKIRK: Charlie. \\r\\nCHARLIE: He shouldn't have done that. It's not nice to laugh at people.\\r \\r\\nKIRK: What happened to him, Charlie? \\r\\nCHARLIE: He's gone. \\r\\nKIRK: That's no answer. \\r\\nCHARLIE: He's gone! I didn't mean to do that. He made me do it! He\\r laughed at me. \\r\\nCREWMAN: Bridge. \\r\\nKIRK: Kirk here. Two men from security, on the double. \\r\\nCREWMAN: Affirmative. \\r\\nCHARLIE: What are you going to do to me? \\r\\nKIRK: I'm confining you to quarters. I want you to stay there. \\r\\nCHARLIE: I won't let them hurt me. I'll make them go away, too. \\r\\nKIRK: They won't hurt you, Charlie. They'll take you\\r to your quarters, Charlie. Go with them. \\r  \\r\\nCHARLIE: No! \\r\\nKIRK: Go to your quarters. \\r\\nCHARLIE: He was going to hurt me. \\r\\nKIRK: Go to your quarters or I'll pick you up and carry you there. \\r\\nCHARLIE: I won't let you. \\r\\nKIRK: That's your choice, Charlie. \\r\\nCHARLIE: I won't let them hurt me. \\r\\nKIRK: They won't hurt you.\\r\\nUHURA: Captain Kirk. \\r\\nKIRK: Kirk here. \\r\\nUHURA: Security reports that all phaser weapons have disappeared.\\r Shall I repeat, Captain? \\r\\nKIRK: No, I heard you. Have Doctor McCoy and Mister Spock meet me in\\r the Briefing room.\\r\\nSPOCK: Thasians have been referred to in our\\r records as having the power to transmute objects or render substances\\r invisible.\\r It has generally been regarded as legend, but Charlie does seems to\\r possess this same power. \\r\\nKIRK: What are chances that Charlie's not an Earthling, that he's a\\r Thasian? \\r\\nMCCOY: No, I don't think so, not unless they're exactly like\\r Earthlings. The development of his fingers and toes exactly matches the\\r present development of mans on Earth. \\r\\nSPOCK: Agreed. \\r\\nKIRK: Well, whatever he is, we have some idea of the power he has. I\\r know what I saw him do in the gymnasium. \\r\\nMCCOY: Considering the effect a normal adolescent has on a home,\\r Charlie with the power he has \\r\\nKIRK: Short-tempered, because he doesn't understand. He needs, he\\r wants. Nothing happens fast enough. \\r\\nSPOCK: The probability is he's responsible for the destruction of the\\r Antares, which would indicate a total disregard for human life. \\r\\nKIRK: He doesn't understand what life is. He's a boy. \\r\\nMCCOY: Well, what do we do with this boy, Jim? How do we keep him caged\\r up? \\r\\nKIRK: It goes even further than that, Doctor. We can't take him with us\\r to Earth Colony Five. Can you imagine what he'd do in an open, normal\\r environment. I've talked with him, listened. He's a boy in a man's\\r body, trying to be an adult with the adolescence in him getting in the\\r way. \\r\\nSPOCK: And with a weapon in him which could destroy you or anyone,\\r anywhere on this ship. \\r\\nMCCOY: Well, for the moment he's stopped. You're an authority he\\r respects, Jim. \\r\\nSPOCK: Agreed. The struggle must remain between you and him. Should any\\r of us interfere\\r  \\r\\nCHARLIE: You wanted to ask me something, he said. \\r\\nKIRK: Are you responsible for what happened to the Antares, Charlie? \\r\\nCHARLIE: Why? \\r\\nKIRK: Answer me. \\r\\nCHARLIE: Yes. There was a warped baffle-plate on the shield of their\\r energy pile. I made it go away. It would've blown up anyway. Well they\\r weren't nice to me! They wanted to get rid of me. They don't now. \\r\\nKIRK: What about us, Charlie? \\r\\nCHARLIE: I don't know.\\r  \\r\\nSPOCK: We're in the hands of an adolescent.\\r\\nKIRK: Lieutenant, raise Colony Five. I want to\\r speak directly to the governor. \\r\\nUHURA: Yes, sir. \\r\\nKIRK: Navigator, lay a course away from Colony Five. Buy me some time. \\r\\nNAVIGATOR: Yes, sir. \\r  \\r\\nKIRK: Spock, get the doctor up here on the double. How bad is it? \\r\\nUHURA: I think it's all right, sir. Sir, there's no reason for that\\r panel to cross-circuit like that. I checked it over myself not fifteen\\r minutes ago. \\r\\nNAVIGATOR: Captain! I can't feed any course co-ordinates into the\\r panel, sir. It rejects the course change. \\r\\nPILOT: Helm doesn't respond either, sir. \\r\\nKIRK: Mister Spock, you getting any readings on your instruments? \\r\\nSPOCK: Yes, sir. There's a Tyger, tyger, burning bright in the forest\\r of the night. \\r\\nKIRK: Mister Spock. \\r\\nSPOCK: I'm trying to Saturn rings around my head, down a road that's\\r Martian red. \\r\\nCHARLIE: You're trying to change course, Captain. You can't do that. I\\r want to get to Colony Five as soon as we can. \\r\\nKIRK: Release the transmitter. \\r\\nCHARLIE: You don't need all that subspace chatter. \\r\\nMCCOY: What's going on here? Spock calls me to the Bridge and goes into\\r some kind of poetry. \\r\\nKIRK: See to her, Doctor. \\r\\nSPOCK: Once upon a midnight dreary while I pondered, weak and weary. \\r\\nCHARLIE: Very nice, Mister Ears. Oh, I can make him do anything, whirl\\r around, laugh, anything. \\r\\nKIRK: That's enough, Charlie. \\r\\nCHARLIE: Don't you think he's funny? I think he's funny. \\r\\nKIRK: Leave my crew alone. \\r\\nSPOCK: Jim, he'll soon reach a point where he won't back down. \\r\\nKIRK: I know.\\r\\nTINA: Charlie, what's wrong? \\nCHARLIE: I have something for you. Pink is\\r your favourite, isn't it? \\r\\nRAND: You don't walk into a room without knocking. \\r\\nCHARLIE: Don't ever lock your door on me again, Janice. I love you. \\r\\nRAND: I'll lock it when I please. What is it you want, anyway? \\r\\nCHARLIE: You. I only want to be nice to you. I can give you anything.\\r Just, just tell me. \\r\\nRAND: I want you to get out.\\r\\nCHARLIE: But I only want to be nice to you. \\r\\nRAND: Get out, Charlie. \\r\\nKIRK: Spock. \\r\\nRAND: I can't make it any plainer than that.\\r\\nCHARLIE: I love you. \\r\\nRAND: You don't know what the word means. \\r\\nCHARLIE: Then show me. \\r\\nRAND: No!\\r \\r\\nRAND: Charlie!\\r  \\r\\nCHARLIE: Why did she do that? I loved her, but she wasn't nice at all.\\r What you did wasn't nice either, but I still need you, Captain. The\\r Enterprise isn't quite like the Antares. Running the Antares was easy.\\r You have to be nice. All right? \\r\\nKIRK: Mister Spock? \\r\\nSPOCK: My legs. They're broken. \\r\\nKIRK: Let him go, too, Charlie. \\r\\nCHARLIE: Why? \\r\\nKIRK: Because I'm telling you to. Because you need me to run the ship,\\r and I need him. \\r\\nCHARLIE: If you try to hurt me again, I'll make a lot of people go\\r away. \\r\\nKIRK: And what about Yeoman Janice? Is she dead? Gone? Destroyed? \\r\\nCHARLIE: I won't tell you. Growing up isn't so much. I'm not a man, and\\r I can do anything! You can't.\\r\\nSPOCK: I'll activate the force field myself. You\\r can return to your section. \\r\\nCHARLIE: He had a mean look. I had to freeze him. I like happy looks.\\r  Aren't you coming in? CHARLIE: That wasn't\\r nice. You'll be sorry. You wait, you'll see, you'll be sorry you did\\r that. You will.\\r  \\r\\nCHARLIE: No. No laughing!\\r \\r\\nUHURA: Captain Kirk, my instruments show we're\\r receiving a message on subspace frequency three, ship-to-ship. I can't\\r hear it, sir. \\r\\nKIRK: Are you creating that message, Charlie, or you're blocking one\\r that's coming in. \\r\\nCHARLIE: It's my game, Captain. You have to find out. Like you said,\\r that's how the game's played. You can have it now. I've locked on\\r course for Colony Five again. \\r\\nKIRK: I've waited long enough. I'm going to take him on. \\r\\nMCCOY: You don't have any special immunity. Not anymore. Pushed far\\r enough, he'd send you off to oblivion, too. \\r\\nKIRK: Mister Spock? \\r\\nSPOCK: Out of the question. \\r\\nKIRK: Wait a minute. Does Charlie? Now, wait, Spock, has he done away\\r with anybody since he took over? \\r\\nSPOCK: Not so far as we know. \\r\\nKIRK: Maybe he can't. Could be he's overreached himself. It's a big\\r ship. He's taken full control. If we could tax his power,\\r turn on every device on the ship, every circuit, every light, all of\\r it, and while he's fighting that, if I could distract him, maybe you\\r could\\r tranquilize him, keep him under until we reach Colony Five. \\r\\nMCCOY: Risky, Jim. \\r\\nKIRK: If we don't try, Doctor, he'll get rid of us anyway. There's no\\r choice, gentlemen, none at all. \\r\\nCHARLIE: I can make you all go away anytime I want to. \\r\\nKIRK: Get out of my chair, Charlie, and get out of it now. \\r\\nCHARLIE: I've got your ship, Captain. \\r\\nKIRK: Maybe, Charlie, but I don't think you can handle any more. I\\r think you've reached your limit and can't take on one more thing, but\\r you're going to have to. \\r\\nCHARLIE: I could've sent you away before, but I didn't. \\r\\nKIRK: You're going to have to take me on. \\r\\nCHARLIE: Don't make me do it now. \\r\\nKIRK: You've got my ship, and I want it back. I want my crew back,\\r whole, if I have to break your neck to do it! \\r\\nCHARLIE: Don't push me. Sorry. I'm sorry but. Stop\\r it. I said stop it! \\r\\nSPOCK: Captain, the navigation console is clear now. The ship is\\r answering the helm. \\r\\nUHURA: Sir, something off our starboard bow. The message says they're\\r from Thasus.\\r  \\r\\nCHARLIE: Oh. \\r\\nRAND: Captain, how did I? \\r\\nKIRK: It's all right, Yeoman. \\r\\nSPOCK: Sensors show there something's there, Captain. Deflectors\\r indicate no solid substance. \\r\\nCHARLIE: No! Oh, no, please, don't let them take me. I can't live with\\r them anymore. You're my friends. You said you were my friends,\\r remember? When I came aboard! Please, I want to go home. Take me home. \\r\\nTHASIAN: I have taken my form from centuries ago, so that I may\\r communicate with you. We did not realise until too late that the boy\\r had gone, and we are saddened that his escape cost the lives of the\\r first ship. We could not help them, but we have returned your people\\r and your ship to you. Everything is as it was. \\r\\nCHARLIE: I won't do it again. Please, I'll be good. I won't ever do it\\r again. I'm sorry about the Antares. I'm sorry! When I came aboard!\\r Please, I want to go with you. Help me! \\r\\nKIRK: The boy belongs with his own kind. \\r\\nTHASIAN: That would be impossible. \\r\\nKIRK: With training, we can teach him to live in our society. If he can\\r be taught not to use his power \\r\\nTHASIAN: We gave him the power so he could live. He will use it,\\r always, and he would destroy you and your kind, or you would be forced\\r to destroy him to save yourselves. \\r\\nKIRK: Is there nothing you can do? \\r\\nTHASIAN: We offer him life, and we will take care of him. Come,\\r Charles. \\r\\nCHARLIE: Oh, please, don't let them take me. I can't even touch them!\\r Janice, they can't feel. Not like you! They don't love!\\r Please, I want to stay. \\r\\nUHURA: Charlie's back on board the Thasian ship, sir. They signal\\r they're leaving. \\r\\nKIRK: It's all right, Yeoman. It's all over now.\"],\n",
       "      dtype=object)"
      ]
     },
     "execution_count": 28,
     "metadata": {},
     "output_type": "execute_result"
    }
   ],
   "source": [
    "series_lines_clean_df.values[2]"
   ]
  },
  {
   "cell_type": "code",
   "execution_count": 27,
   "metadata": {},
   "outputs": [],
   "source": [
    "series_lines_clean_df.columns = ['episode']"
   ]
  },
  {
   "cell_type": "code",
   "execution_count": null,
   "metadata": {},
   "outputs": [
    {
     "data": {
      "text/html": [
       "<div>\n",
       "<style scoped>\n",
       "    .dataframe tbody tr th:only-of-type {\n",
       "        vertical-align: middle;\n",
       "    }\n",
       "\n",
       "    .dataframe tbody tr th {\n",
       "        vertical-align: top;\n",
       "    }\n",
       "\n",
       "    .dataframe thead th {\n",
       "        text-align: right;\n",
       "    }\n",
       "</style>\n",
       "<table border=\"1\" class=\"dataframe\">\n",
       "  <thead>\n",
       "    <tr style=\"text-align: right;\">\n",
       "      <th></th>\n",
       "      <th>episode</th>\n",
       "    </tr>\n",
       "  </thead>\n",
       "  <tbody>\n",
       "    <tr>\n",
       "      <th>0</th>\n",
       "      <td>SPOCK: Check the circuit. \\r\\nTYLER: All opera...</td>\n",
       "    </tr>\n",
       "    <tr>\n",
       "      <th>1</th>\n",
       "      <td>KIRK: Shall we pick some flowers, Doctor? When...</td>\n",
       "    </tr>\n",
       "    <tr>\n",
       "      <th>2</th>\n",
       "      <td>KIRK: All right, Chief, begin materialisation....</td>\n",
       "    </tr>\n",
       "    <tr>\n",
       "      <th>3</th>\n",
       "      <td>SPOCK: Your move, Captain. \\r\\nKIRK: We should...</td>\n",
       "    </tr>\n",
       "    <tr>\n",
       "      <th>4</th>\n",
       "      <td>SPOCK: Check out the life-support systems. \\r\\...</td>\n",
       "    </tr>\n",
       "    <tr>\n",
       "      <th>...</th>\n",
       "      <td>...</td>\n",
       "    </tr>\n",
       "    <tr>\n",
       "      <th>75</th>\n",
       "      <td>SPOCK: It is definitely the stolen space cruis...</td>\n",
       "    </tr>\n",
       "    <tr>\n",
       "      <th>76</th>\n",
       "      <td>KIRK: At Federation orders, we're\\r proceeding...</td>\n",
       "    </tr>\n",
       "    <tr>\n",
       "      <th>77</th>\n",
       "      <td>SULU: All observation stations, take final\\r r...</td>\n",
       "    </tr>\n",
       "    <tr>\n",
       "      <th>78</th>\n",
       "      <td>SPOCK: The power source we detected is in this...</td>\n",
       "    </tr>\n",
       "    <tr>\n",
       "      <th>79</th>\n",
       "      <td>KIRK: What's wrong with her? \\r\\nCOLEMAN: Expo...</td>\n",
       "    </tr>\n",
       "  </tbody>\n",
       "</table>\n",
       "<p>80 rows × 1 columns</p>\n",
       "</div>"
      ],
      "text/plain": [
       "                                              episode\n",
       "0   SPOCK: Check the circuit. \\r\\nTYLER: All opera...\n",
       "1   KIRK: Shall we pick some flowers, Doctor? When...\n",
       "2   KIRK: All right, Chief, begin materialisation....\n",
       "3   SPOCK: Your move, Captain. \\r\\nKIRK: We should...\n",
       "4   SPOCK: Check out the life-support systems. \\r\\...\n",
       "..                                                ...\n",
       "75  SPOCK: It is definitely the stolen space cruis...\n",
       "76  KIRK: At Federation orders, we're\\r proceeding...\n",
       "77  SULU: All observation stations, take final\\r r...\n",
       "78  SPOCK: The power source we detected is in this...\n",
       "79  KIRK: What's wrong with her? \\r\\nCOLEMAN: Expo...\n",
       "\n",
       "[80 rows x 1 columns]"
      ]
     },
     "execution_count": 30,
     "metadata": {},
     "output_type": "execute_result"
    }
   ],
   "source": [
    "series_lines_clean_df"
   ]
  },
  {
   "cell_type": "code",
   "execution_count": 28,
   "metadata": {},
   "outputs": [],
   "source": [
    "def calculate_sentiment(line):\n",
    "    return sia.polarity_scores(line)['compound']\n"
   ]
  },
  {
   "cell_type": "code",
   "execution_count": 29,
   "metadata": {},
   "outputs": [
    {
     "data": {
      "text/html": [
       "<div>\n",
       "<style scoped>\n",
       "    .dataframe tbody tr th:only-of-type {\n",
       "        vertical-align: middle;\n",
       "    }\n",
       "\n",
       "    .dataframe tbody tr th {\n",
       "        vertical-align: top;\n",
       "    }\n",
       "\n",
       "    .dataframe thead th {\n",
       "        text-align: right;\n",
       "    }\n",
       "</style>\n",
       "<table border=\"1\" class=\"dataframe\">\n",
       "  <thead>\n",
       "    <tr style=\"text-align: right;\">\n",
       "      <th></th>\n",
       "      <th>episode</th>\n",
       "      <th>cumulative_sentiment</th>\n",
       "    </tr>\n",
       "  </thead>\n",
       "  <tbody>\n",
       "    <tr>\n",
       "      <th>0</th>\n",
       "      <td>SPOCK: Check the circuit. \\r\\nTYLER: All opera...</td>\n",
       "      <td>[0.0, 0.0, 0.4019, 0.0, -0.296, -0.3612, 0.0, ...</td>\n",
       "    </tr>\n",
       "    <tr>\n",
       "      <th>1</th>\n",
       "      <td>KIRK: Shall we pick some flowers, Doctor? When...</td>\n",
       "      <td>[0.3612, 0.3612, 0.0, -0.4696, 0.4215, 0.0, 0....</td>\n",
       "    </tr>\n",
       "    <tr>\n",
       "      <th>2</th>\n",
       "      <td>KIRK: All right, Chief, begin materialisation....</td>\n",
       "      <td>[0.0, 0.0, 0.0, 0.0, 0.0, 0.802, 0.8176, 0.831...</td>\n",
       "    </tr>\n",
       "    <tr>\n",
       "      <th>3</th>\n",
       "      <td>SPOCK: Your move, Captain. \\r\\nKIRK: We should...</td>\n",
       "      <td>[0.0, 0.0, 0.0, -0.2247, -0.0772, 0.5862, 0.0,...</td>\n",
       "    </tr>\n",
       "    <tr>\n",
       "      <th>4</th>\n",
       "      <td>SPOCK: Check out the life-support systems. \\r\\...</td>\n",
       "      <td>[0.0, 0.0, -0.5423, -0.6486, 0.0, -0.033, 0.0,...</td>\n",
       "    </tr>\n",
       "    <tr>\n",
       "      <th>...</th>\n",
       "      <td>...</td>\n",
       "      <td>...</td>\n",
       "    </tr>\n",
       "    <tr>\n",
       "      <th>75</th>\n",
       "      <td>SPOCK: It is definitely the stolen space cruis...</td>\n",
       "      <td>[-0.1027, 0.0, 0.0, -0.296, -0.4215, 0.0, 0.0,...</td>\n",
       "    </tr>\n",
       "    <tr>\n",
       "      <th>76</th>\n",
       "      <td>KIRK: At Federation orders, we're\\r proceeding...</td>\n",
       "      <td>[0.2023, 0.3612, 0.0, 0.0, -0.34, 0.0, 0.0, 0....</td>\n",
       "    </tr>\n",
       "    <tr>\n",
       "      <th>77</th>\n",
       "      <td>SULU: All observation stations, take final\\r r...</td>\n",
       "      <td>[0.0, 0.0, 0.0, 0.0, 0.2732, 0.0, 0.0, -0.5719...</td>\n",
       "    </tr>\n",
       "    <tr>\n",
       "      <th>78</th>\n",
       "      <td>SPOCK: The power source we detected is in this...</td>\n",
       "      <td>[0.0, 0.0, -0.296, -0.2263, -0.6705, 0.25, 0.3...</td>\n",
       "    </tr>\n",
       "    <tr>\n",
       "      <th>79</th>\n",
       "      <td>KIRK: What's wrong with her? \\r\\nCOLEMAN: Expo...</td>\n",
       "      <td>[-0.4767, 0.0, 0.0, 0.0, 0.0, 0.4019, 0.0, 0.3...</td>\n",
       "    </tr>\n",
       "  </tbody>\n",
       "</table>\n",
       "<p>80 rows × 2 columns</p>\n",
       "</div>"
      ],
      "text/plain": [
       "                                              episode  \\\n",
       "0   SPOCK: Check the circuit. \\r\\nTYLER: All opera...   \n",
       "1   KIRK: Shall we pick some flowers, Doctor? When...   \n",
       "2   KIRK: All right, Chief, begin materialisation....   \n",
       "3   SPOCK: Your move, Captain. \\r\\nKIRK: We should...   \n",
       "4   SPOCK: Check out the life-support systems. \\r\\...   \n",
       "..                                                ...   \n",
       "75  SPOCK: It is definitely the stolen space cruis...   \n",
       "76  KIRK: At Federation orders, we're\\r proceeding...   \n",
       "77  SULU: All observation stations, take final\\r r...   \n",
       "78  SPOCK: The power source we detected is in this...   \n",
       "79  KIRK: What's wrong with her? \\r\\nCOLEMAN: Expo...   \n",
       "\n",
       "                                 cumulative_sentiment  \n",
       "0   [0.0, 0.0, 0.4019, 0.0, -0.296, -0.3612, 0.0, ...  \n",
       "1   [0.3612, 0.3612, 0.0, -0.4696, 0.4215, 0.0, 0....  \n",
       "2   [0.0, 0.0, 0.0, 0.0, 0.0, 0.802, 0.8176, 0.831...  \n",
       "3   [0.0, 0.0, 0.0, -0.2247, -0.0772, 0.5862, 0.0,...  \n",
       "4   [0.0, 0.0, -0.5423, -0.6486, 0.0, -0.033, 0.0,...  \n",
       "..                                                ...  \n",
       "75  [-0.1027, 0.0, 0.0, -0.296, -0.4215, 0.0, 0.0,...  \n",
       "76  [0.2023, 0.3612, 0.0, 0.0, -0.34, 0.0, 0.0, 0....  \n",
       "77  [0.0, 0.0, 0.0, 0.0, 0.2732, 0.0, 0.0, -0.5719...  \n",
       "78  [0.0, 0.0, -0.296, -0.2263, -0.6705, 0.25, 0.3...  \n",
       "79  [-0.4767, 0.0, 0.0, 0.0, 0.0, 0.4019, 0.0, 0.3...  \n",
       "\n",
       "[80 rows x 2 columns]"
      ]
     },
     "execution_count": 29,
     "metadata": {},
     "output_type": "execute_result"
    }
   ],
   "source": [
    "series_lines_clean_df['cumulative_sentiment'] = series_lines_clean_df['episode'].apply(lambda x: [calculate_sentiment(line) for line in x.split('\\n') if line.strip()])\n",
    "series_lines_clean_df"
   ]
  },
  {
   "cell_type": "code",
   "execution_count": 33,
   "metadata": {},
   "outputs": [
    {
     "name": "stderr",
     "output_type": "stream",
     "text": [
      "/var/folders/r5/v547ncv97r9_mbyn2hvcwjz40000gp/T/ipykernel_2374/3875672401.py:14: UserWarning:\n",
      "\n",
      "Tight layout not applied. The bottom and top margins cannot be made large enough to accommodate all axes decorations.\n",
      "\n"
     ]
    }
   ],
   "source": [
    "# # # Apply sentiment analysis to each row (episode) and accumulate the sentiment scores\n",
    "# # series_for_sent['cumulative_sentiment'] = series_for_sent['episode'].apply(lambda x: [calculate_sentiment(line) for line in x.split('\\n') if line.strip()])\n",
    "\n",
    "# # Plot the change in sentiment through each episode\n",
    "# plt.figure(figsize=(12, 6))\n",
    "# for idx, row in series_lines_clean_df.iterrows():\n",
    "#     plt.plot(row['cumulative_sentiment'], label=f'Episode {idx}')\n",
    "\n",
    "# plt.xlabel('Line Number')\n",
    "# plt.ylabel('Cumulative Sentiment Score')\n",
    "# plt.title('Change in Sentiment Through Each Episode')\n",
    "# plt.legend(loc='upper left', bbox_to_anchor=(1, 1))\n",
    "# plt.grid(True)\n",
    "# plt.tight_layout()\n",
    "# plt.show()"
   ]
  },
  {
   "cell_type": "code",
   "execution_count": 37,
   "metadata": {},
   "outputs": [
    {
     "data": {
      "text/plain": [
       "episode 0                         The Cage\n",
       "episode 1                     The Man Trap\n",
       "episode 2                        Charlie X\n",
       "episode 3     Where No Man Has Gone Before\n",
       "episode 4                   The Naked Time\n",
       "                          ...             \n",
       "episode 75                 The Way To Eden\n",
       "episode 76               The Cloud Minders\n",
       "episode 77              The Savage Curtain\n",
       "episode 78              All Our Yesterdays\n",
       "episode 79              Turnabout Intruder\n",
       "Name: Title, Length: 80, dtype: object"
      ]
     },
     "execution_count": 37,
     "metadata": {},
     "output_type": "execute_result"
    }
   ],
   "source": [
    "series_lines_raw_df['Title']\n"
   ]
  },
  {
   "cell_type": "code",
   "execution_count": 38,
   "metadata": {},
   "outputs": [
    {
     "data": {
      "text/html": [
       "<div>\n",
       "<style scoped>\n",
       "    .dataframe tbody tr th:only-of-type {\n",
       "        vertical-align: middle;\n",
       "    }\n",
       "\n",
       "    .dataframe tbody tr th {\n",
       "        vertical-align: top;\n",
       "    }\n",
       "\n",
       "    .dataframe thead th {\n",
       "        text-align: right;\n",
       "    }\n",
       "</style>\n",
       "<table border=\"1\" class=\"dataframe\">\n",
       "  <thead>\n",
       "    <tr style=\"text-align: right;\">\n",
       "      <th></th>\n",
       "      <th>episode</th>\n",
       "      <th>cumulative_sentiment</th>\n",
       "      <th>Title</th>\n",
       "    </tr>\n",
       "  </thead>\n",
       "  <tbody>\n",
       "    <tr>\n",
       "      <th>0</th>\n",
       "      <td>SPOCK: Check the circuit. \\r\\nTYLER: All opera...</td>\n",
       "      <td>[0.0, 0.0, 0.4019, 0.0, -0.296, -0.3612, 0.0, ...</td>\n",
       "      <td>The Cage</td>\n",
       "    </tr>\n",
       "    <tr>\n",
       "      <th>1</th>\n",
       "      <td>KIRK: Shall we pick some flowers, Doctor? When...</td>\n",
       "      <td>[0.3612, 0.3612, 0.0, -0.4696, 0.4215, 0.0, 0....</td>\n",
       "      <td>The Man Trap</td>\n",
       "    </tr>\n",
       "    <tr>\n",
       "      <th>2</th>\n",
       "      <td>KIRK: All right, Chief, begin materialisation....</td>\n",
       "      <td>[0.0, 0.0, 0.0, 0.0, 0.0, 0.802, 0.8176, 0.831...</td>\n",
       "      <td>Charlie X</td>\n",
       "    </tr>\n",
       "    <tr>\n",
       "      <th>3</th>\n",
       "      <td>SPOCK: Your move, Captain. \\r\\nKIRK: We should...</td>\n",
       "      <td>[0.0, 0.0, 0.0, -0.2247, -0.0772, 0.5862, 0.0,...</td>\n",
       "      <td>Where No Man Has Gone Before</td>\n",
       "    </tr>\n",
       "    <tr>\n",
       "      <th>4</th>\n",
       "      <td>SPOCK: Check out the life-support systems. \\r\\...</td>\n",
       "      <td>[0.0, 0.0, -0.5423, -0.6486, 0.0, -0.033, 0.0,...</td>\n",
       "      <td>The Naked Time</td>\n",
       "    </tr>\n",
       "    <tr>\n",
       "      <th>...</th>\n",
       "      <td>...</td>\n",
       "      <td>...</td>\n",
       "      <td>...</td>\n",
       "    </tr>\n",
       "    <tr>\n",
       "      <th>75</th>\n",
       "      <td>SPOCK: It is definitely the stolen space cruis...</td>\n",
       "      <td>[-0.1027, 0.0, 0.0, -0.296, -0.4215, 0.0, 0.0,...</td>\n",
       "      <td>The Way To Eden</td>\n",
       "    </tr>\n",
       "    <tr>\n",
       "      <th>76</th>\n",
       "      <td>KIRK: At Federation orders, we're\\r proceeding...</td>\n",
       "      <td>[0.2023, 0.3612, 0.0, 0.0, -0.34, 0.0, 0.0, 0....</td>\n",
       "      <td>The Cloud Minders</td>\n",
       "    </tr>\n",
       "    <tr>\n",
       "      <th>77</th>\n",
       "      <td>SULU: All observation stations, take final\\r r...</td>\n",
       "      <td>[0.0, 0.0, 0.0, 0.0, 0.2732, 0.0, 0.0, -0.5719...</td>\n",
       "      <td>The Savage Curtain</td>\n",
       "    </tr>\n",
       "    <tr>\n",
       "      <th>78</th>\n",
       "      <td>SPOCK: The power source we detected is in this...</td>\n",
       "      <td>[0.0, 0.0, -0.296, -0.2263, -0.6705, 0.25, 0.3...</td>\n",
       "      <td>All Our Yesterdays</td>\n",
       "    </tr>\n",
       "    <tr>\n",
       "      <th>79</th>\n",
       "      <td>KIRK: What's wrong with her? \\r\\nCOLEMAN: Expo...</td>\n",
       "      <td>[-0.4767, 0.0, 0.0, 0.0, 0.0, 0.4019, 0.0, 0.3...</td>\n",
       "      <td>Turnabout Intruder</td>\n",
       "    </tr>\n",
       "  </tbody>\n",
       "</table>\n",
       "<p>80 rows × 3 columns</p>\n",
       "</div>"
      ],
      "text/plain": [
       "                                              episode  \\\n",
       "0   SPOCK: Check the circuit. \\r\\nTYLER: All opera...   \n",
       "1   KIRK: Shall we pick some flowers, Doctor? When...   \n",
       "2   KIRK: All right, Chief, begin materialisation....   \n",
       "3   SPOCK: Your move, Captain. \\r\\nKIRK: We should...   \n",
       "4   SPOCK: Check out the life-support systems. \\r\\...   \n",
       "..                                                ...   \n",
       "75  SPOCK: It is definitely the stolen space cruis...   \n",
       "76  KIRK: At Federation orders, we're\\r proceeding...   \n",
       "77  SULU: All observation stations, take final\\r r...   \n",
       "78  SPOCK: The power source we detected is in this...   \n",
       "79  KIRK: What's wrong with her? \\r\\nCOLEMAN: Expo...   \n",
       "\n",
       "                                 cumulative_sentiment  \\\n",
       "0   [0.0, 0.0, 0.4019, 0.0, -0.296, -0.3612, 0.0, ...   \n",
       "1   [0.3612, 0.3612, 0.0, -0.4696, 0.4215, 0.0, 0....   \n",
       "2   [0.0, 0.0, 0.0, 0.0, 0.0, 0.802, 0.8176, 0.831...   \n",
       "3   [0.0, 0.0, 0.0, -0.2247, -0.0772, 0.5862, 0.0,...   \n",
       "4   [0.0, 0.0, -0.5423, -0.6486, 0.0, -0.033, 0.0,...   \n",
       "..                                                ...   \n",
       "75  [-0.1027, 0.0, 0.0, -0.296, -0.4215, 0.0, 0.0,...   \n",
       "76  [0.2023, 0.3612, 0.0, 0.0, -0.34, 0.0, 0.0, 0....   \n",
       "77  [0.0, 0.0, 0.0, 0.0, 0.2732, 0.0, 0.0, -0.5719...   \n",
       "78  [0.0, 0.0, -0.296, -0.2263, -0.6705, 0.25, 0.3...   \n",
       "79  [-0.4767, 0.0, 0.0, 0.0, 0.0, 0.4019, 0.0, 0.3...   \n",
       "\n",
       "                           Title  \n",
       "0                       The Cage  \n",
       "1                   The Man Trap  \n",
       "2                      Charlie X  \n",
       "3   Where No Man Has Gone Before  \n",
       "4                 The Naked Time  \n",
       "..                           ...  \n",
       "75               The Way To Eden  \n",
       "76             The Cloud Minders  \n",
       "77            The Savage Curtain  \n",
       "78            All Our Yesterdays  \n",
       "79            Turnabout Intruder  \n",
       "\n",
       "[80 rows x 3 columns]"
      ]
     },
     "execution_count": 38,
     "metadata": {},
     "output_type": "execute_result"
    }
   ],
   "source": [
    "title_column = series_lines_raw_df['Title']\n",
    "title_column.reset_index(drop=True, inplace=True)\n",
    "series_lines_clean_df['Title'] = title_column\n",
    "series_lines_clean_df\n"
   ]
  },
  {
   "cell_type": "code",
   "execution_count": 39,
   "metadata": {},
   "outputs": [
    {
     "data": {
      "image/png": "[encoded data removed]",
      "text/plain": [
       "<Figure size 1200x600 with 1 Axes>"
      ]
     },
     "metadata": {},
     "output_type": "display_data"
    }
   ],
   "source": [
    "# Select the specific episode you want to analyze (e.g., Episode 5)\n",
    "episode_to_analyze = 5\n",
    "selected_episode = series_lines_clean_df.loc[episode_to_analyze, 'episode']\n",
    "\n",
    "# Apply sentiment analysis and accumulate the sentiment scores for the selected episode\n",
    "cumulative_sentiment = []\n",
    "for line in selected_episode.split('\\n'):\n",
    "    line = line.strip()\n",
    "    if line:\n",
    "        sentiment_score = calculate_sentiment(line)\n",
    "        if cumulative_sentiment:\n",
    "            sentiment_score += cumulative_sentiment[-1]\n",
    "        cumulative_sentiment.append(sentiment_score)\n",
    "\n",
    "# Plot the change in sentiment for the selected episode\n",
    "plt.figure(figsize=(12, 6))\n",
    "plt.plot(cumulative_sentiment, marker='o')\n",
    "\n",
    "plt.xlabel('Line Number')\n",
    "plt.ylabel('Cumulative Sentiment Score')\n",
    "plt.title(f'Change in Sentiment for Episode {episode_to_analyze}')\n",
    "plt.grid(True)\n",
    "plt.tight_layout()\n",
    "plt.show()"
   ]
  },
  {
   "cell_type": "code",
   "execution_count": null,
   "metadata": {},
   "outputs": [],
   "source": [
    "import matplotlib\n",
    "matplotlib.use('TkAgg')  # Use 'TkAgg' or another appropriate backend\n",
    "\n",
    "from matplotlib.animation import FuncAnimation\n"
   ]
  },
  {
   "cell_type": "code",
   "execution_count": null,
   "metadata": {},
   "outputs": [],
   "source": [
    "# Create a figure and axis for the animation\n",
    "fig, ax = plt.subplots(figsize=(10, 6))\n",
    "\n",
    "# Function to update the plot for each episode\n",
    "def update(frame):\n",
    "    ax.clear()\n",
    "    episode = series_for_sent.loc[frame, 'episode']\n",
    "    cumulative_sentiment = []\n",
    "    for line in episode.split('\\n'):\n",
    "        line = line.strip()\n",
    "        if line:\n",
    "            sentiment_score = calculate_sentiment(line)\n",
    "            if cumulative_sentiment:\n",
    "                sentiment_score += cumulative_sentiment[-1]\n",
    "            cumulative_sentiment.append(sentiment_score)\n",
    "    ax.plot(cumulative_sentiment, marker='o')\n",
    "    ax.set_xlabel('Line Number')\n",
    "    ax.set_ylabel('Cumulative Sentiment Score')\n",
    "    ax.set_title(f'Change in Sentiment for Episode {frame}')\n",
    "    ax.grid(True)\n",
    "\n",
    "# Define the range of episodes to display (e.g., the first 5 episodes)\n",
    "episode_range = range(5)\n",
    "\n",
    "# Create the animation\n",
    "animation = FuncAnimation(fig, update, frames=episode_range, repeat=False)\n",
    "\n",
    "plt.show()"
   ]
  },
  {
   "cell_type": "code",
   "execution_count": null,
   "metadata": {},
   "outputs": [
    {
     "name": "stderr",
     "output_type": "stream",
     "text": [
      "MovieWriter ffmpeg unavailable; using Pillow instead.\n"
     ]
    },
    {
     "ename": "ValueError",
     "evalue": "unknown file extension: .mp4",
     "output_type": "error",
     "traceback": [
      "\u001b[0;31m---------------------------------------------------------------------------\u001b[0m",
      "\u001b[0;31mKeyError\u001b[0m                                  Traceback (most recent call last)",
      "File \u001b[0;32m/Library/Frameworks/Python.framework/Versions/3.11/lib/python3.11/site-packages/PIL/Image.py:2408\u001b[0m, in \u001b[0;36mImage.save\u001b[0;34m(self, fp, format, **params)\u001b[0m\n\u001b[1;32m   2407\u001b[0m \u001b[39mtry\u001b[39;00m:\n\u001b[0;32m-> 2408\u001b[0m     \u001b[39mformat\u001b[39m \u001b[39m=\u001b[39m EXTENSION[ext]\n\u001b[1;32m   2409\u001b[0m \u001b[39mexcept\u001b[39;00m \u001b[39mKeyError\u001b[39;00m \u001b[39mas\u001b[39;00m e:\n",
      "\u001b[0;31mKeyError\u001b[0m: '.mp4'",
      "\nThe above exception was the direct cause of the following exception:\n",
      "\u001b[0;31mValueError\u001b[0m                                Traceback (most recent call last)",
      "Cell \u001b[0;32mIn[83], line 1\u001b[0m\n\u001b[0;32m----> 1\u001b[0m animation\u001b[39m.\u001b[39;49msave(\u001b[39m'\u001b[39;49m\u001b[39msentiment_animation.mp4\u001b[39;49m\u001b[39m'\u001b[39;49m, writer\u001b[39m=\u001b[39;49m\u001b[39m'\u001b[39;49m\u001b[39mffmpeg\u001b[39;49m\u001b[39m'\u001b[39;49m)\n",
      "File \u001b[0;32m/Library/Frameworks/Python.framework/Versions/3.11/lib/python3.11/site-packages/matplotlib/animation.py:1085\u001b[0m, in \u001b[0;36mAnimation.save\u001b[0;34m(self, filename, writer, fps, dpi, codec, bitrate, extra_args, metadata, extra_anim, savefig_kwargs, progress_callback)\u001b[0m\n\u001b[1;32m   1081\u001b[0m savefig_kwargs[\u001b[39m'\u001b[39m\u001b[39mtransparent\u001b[39m\u001b[39m'\u001b[39m] \u001b[39m=\u001b[39m \u001b[39mFalse\u001b[39;00m   \u001b[39m# just to be safe!\u001b[39;00m\n\u001b[1;32m   1082\u001b[0m \u001b[39m# canvas._is_saving = True makes the draw_event animation-starting\u001b[39;00m\n\u001b[1;32m   1083\u001b[0m \u001b[39m# callback a no-op; canvas.manager = None prevents resizing the GUI\u001b[39;00m\n\u001b[1;32m   1084\u001b[0m \u001b[39m# widget (both are likewise done in savefig()).\u001b[39;00m\n\u001b[0;32m-> 1085\u001b[0m \u001b[39mwith\u001b[39;49;00m mpl\u001b[39m.\u001b[39;49mrc_context({\u001b[39m'\u001b[39;49m\u001b[39msavefig.bbox\u001b[39;49m\u001b[39m'\u001b[39;49m: \u001b[39mNone\u001b[39;49;00m}), \\\n\u001b[1;32m   1086\u001b[0m      writer\u001b[39m.\u001b[39;49msaving(\u001b[39mself\u001b[39;49m\u001b[39m.\u001b[39;49m_fig, filename, dpi), \\\n\u001b[1;32m   1087\u001b[0m      cbook\u001b[39m.\u001b[39;49m_setattr_cm(\u001b[39mself\u001b[39;49m\u001b[39m.\u001b[39;49m_fig\u001b[39m.\u001b[39;49mcanvas,\n\u001b[1;32m   1088\u001b[0m                        _is_saving\u001b[39m=\u001b[39;49m\u001b[39mTrue\u001b[39;49;00m, manager\u001b[39m=\u001b[39;49m\u001b[39mNone\u001b[39;49;00m):\n\u001b[1;32m   1089\u001b[0m     \u001b[39mfor\u001b[39;49;00m anim \u001b[39min\u001b[39;49;00m all_anim:\n\u001b[1;32m   1090\u001b[0m         anim\u001b[39m.\u001b[39;49m_init_draw()  \u001b[39m# Clear the initial frame\u001b[39;49;00m\n",
      "File \u001b[0;32m/Library/Frameworks/Python.framework/Versions/3.11/lib/python3.11/contextlib.py:144\u001b[0m, in \u001b[0;36m_GeneratorContextManager.__exit__\u001b[0;34m(self, typ, value, traceback)\u001b[0m\n\u001b[1;32m    142\u001b[0m \u001b[39mif\u001b[39;00m typ \u001b[39mis\u001b[39;00m \u001b[39mNone\u001b[39;00m:\n\u001b[1;32m    143\u001b[0m     \u001b[39mtry\u001b[39;00m:\n\u001b[0;32m--> 144\u001b[0m         \u001b[39mnext\u001b[39m(\u001b[39mself\u001b[39m\u001b[39m.\u001b[39mgen)\n\u001b[1;32m    145\u001b[0m     \u001b[39mexcept\u001b[39;00m \u001b[39mStopIteration\u001b[39;00m:\n\u001b[1;32m    146\u001b[0m         \u001b[39mreturn\u001b[39;00m \u001b[39mFalse\u001b[39;00m\n",
      "File \u001b[0;32m/Library/Frameworks/Python.framework/Versions/3.11/lib/python3.11/site-packages/matplotlib/animation.py:235\u001b[0m, in \u001b[0;36mAbstractMovieWriter.saving\u001b[0;34m(self, fig, outfile, dpi, *args, **kwargs)\u001b[0m\n\u001b[1;32m    233\u001b[0m     \u001b[39myield\u001b[39;00m \u001b[39mself\u001b[39m\n\u001b[1;32m    234\u001b[0m \u001b[39mfinally\u001b[39;00m:\n\u001b[0;32m--> 235\u001b[0m     \u001b[39mself\u001b[39;49m\u001b[39m.\u001b[39;49mfinish()\n",
      "File \u001b[0;32m/Library/Frameworks/Python.framework/Versions/3.11/lib/python3.11/site-packages/matplotlib/animation.py:501\u001b[0m, in \u001b[0;36mPillowWriter.finish\u001b[0;34m(self)\u001b[0m\n\u001b[1;32m    500\u001b[0m \u001b[39mdef\u001b[39;00m \u001b[39mfinish\u001b[39m(\u001b[39mself\u001b[39m):\n\u001b[0;32m--> 501\u001b[0m     \u001b[39mself\u001b[39;49m\u001b[39m.\u001b[39;49m_frames[\u001b[39m0\u001b[39;49m]\u001b[39m.\u001b[39;49msave(\n\u001b[1;32m    502\u001b[0m         \u001b[39mself\u001b[39;49m\u001b[39m.\u001b[39;49moutfile, save_all\u001b[39m=\u001b[39;49m\u001b[39mTrue\u001b[39;49;00m, append_images\u001b[39m=\u001b[39;49m\u001b[39mself\u001b[39;49m\u001b[39m.\u001b[39;49m_frames[\u001b[39m1\u001b[39;49m:],\n\u001b[1;32m    503\u001b[0m         duration\u001b[39m=\u001b[39;49m\u001b[39mint\u001b[39;49m(\u001b[39m1000\u001b[39;49m \u001b[39m/\u001b[39;49m \u001b[39mself\u001b[39;49m\u001b[39m.\u001b[39;49mfps), loop\u001b[39m=\u001b[39;49m\u001b[39m0\u001b[39;49m)\n",
      "File \u001b[0;32m/Library/Frameworks/Python.framework/Versions/3.11/lib/python3.11/site-packages/PIL/Image.py:2411\u001b[0m, in \u001b[0;36mImage.save\u001b[0;34m(self, fp, format, **params)\u001b[0m\n\u001b[1;32m   2409\u001b[0m     \u001b[39mexcept\u001b[39;00m \u001b[39mKeyError\u001b[39;00m \u001b[39mas\u001b[39;00m e:\n\u001b[1;32m   2410\u001b[0m         msg \u001b[39m=\u001b[39m \u001b[39mf\u001b[39m\u001b[39m\"\u001b[39m\u001b[39munknown file extension: \u001b[39m\u001b[39m{\u001b[39;00mext\u001b[39m}\u001b[39;00m\u001b[39m\"\u001b[39m\n\u001b[0;32m-> 2411\u001b[0m         \u001b[39mraise\u001b[39;00m \u001b[39mValueError\u001b[39;00m(msg) \u001b[39mfrom\u001b[39;00m \u001b[39me\u001b[39;00m\n\u001b[1;32m   2413\u001b[0m \u001b[39mif\u001b[39;00m \u001b[39mformat\u001b[39m\u001b[39m.\u001b[39mupper() \u001b[39mnot\u001b[39;00m \u001b[39min\u001b[39;00m SAVE:\n\u001b[1;32m   2414\u001b[0m     init()\n",
      "\u001b[0;31mValueError\u001b[0m: unknown file extension: .mp4"
     ]
    }
   ],
   "source": [
    "animation.save('sentiment_animation.mp4', writer='ffmpeg')"
   ]
  },
  {
   "cell_type": "code",
   "execution_count": null,
   "metadata": {},
   "outputs": [],
   "source": [
    "sentiment_scores"
   ]
  },
  {
   "cell_type": "code",
   "execution_count": null,
   "metadata": {},
   "outputs": [
    {
     "data": {
      "text/html": [
       "<div>\n",
       "<style scoped>\n",
       "    .dataframe tbody tr th:only-of-type {\n",
       "        vertical-align: middle;\n",
       "    }\n",
       "\n",
       "    .dataframe tbody tr th {\n",
       "        vertical-align: top;\n",
       "    }\n",
       "\n",
       "    .dataframe thead th {\n",
       "        text-align: right;\n",
       "    }\n",
       "</style>\n",
       "<table border=\"1\" class=\"dataframe\">\n",
       "  <thead>\n",
       "    <tr style=\"text-align: right;\">\n",
       "      <th></th>\n",
       "      <th>episode</th>\n",
       "      <th>Spock</th>\n",
       "      <th>Kirk</th>\n",
       "      <th>McCoy</th>\n",
       "    </tr>\n",
       "  </thead>\n",
       "  <tbody>\n",
       "    <tr>\n",
       "      <th>0</th>\n",
       "      <td>episode</td>\n",
       "      <td>0    -0.6641\n",
       "1    -0.9900\n",
       "2    -0.9457\n",
       "3    -0...</td>\n",
       "      <td>0     0.0000\n",
       "1     0.9957\n",
       "2     0.9965\n",
       "3     0...</td>\n",
       "      <td>0     0.0000\n",
       "1     0.7874\n",
       "2     0.9415\n",
       "3     0...</td>\n",
       "    </tr>\n",
       "    <tr>\n",
       "      <th>1</th>\n",
       "      <td>overall</td>\n",
       "      <td>-0.005304</td>\n",
       "      <td>0.224218</td>\n",
       "      <td>0.104833</td>\n",
       "    </tr>\n",
       "  </tbody>\n",
       "</table>\n",
       "</div>"
      ],
      "text/plain": [
       "   episode                                              Spock  \\\n",
       "0  episode  0    -0.6641\n",
       "1    -0.9900\n",
       "2    -0.9457\n",
       "3    -0...   \n",
       "1  overall                                          -0.005304   \n",
       "\n",
       "                                                Kirk  \\\n",
       "0  0     0.0000\n",
       "1     0.9957\n",
       "2     0.9965\n",
       "3     0...   \n",
       "1                                           0.224218   \n",
       "\n",
       "                                               McCoy  \n",
       "0  0     0.0000\n",
       "1     0.7874\n",
       "2     0.9415\n",
       "3     0...  \n",
       "1                                           0.104833  "
      ]
     },
     "execution_count": 35,
     "metadata": {},
     "output_type": "execute_result"
    }
   ],
   "source": [
    "df = pd.DataFrame(sentiment_scores)\n",
    "df.reset_index(inplace=True)\n",
    "\n",
    "# Rename the columns for clarity\n",
    "df.columns = ['episode', 'Spock', 'Kirk', 'McCoy']\n",
    "df"
   ]
  },
  {
   "cell_type": "code",
   "execution_count": null,
   "metadata": {},
   "outputs": [
    {
     "data": {
      "text/html": [
       "<div>\n",
       "<style scoped>\n",
       "    .dataframe tbody tr th:only-of-type {\n",
       "        vertical-align: middle;\n",
       "    }\n",
       "\n",
       "    .dataframe tbody tr th {\n",
       "        vertical-align: top;\n",
       "    }\n",
       "\n",
       "    .dataframe thead th {\n",
       "        text-align: right;\n",
       "    }\n",
       "</style>\n",
       "<table border=\"1\" class=\"dataframe\">\n",
       "  <thead>\n",
       "    <tr style=\"text-align: right;\">\n",
       "      <th></th>\n",
       "      <th>SPOCK</th>\n",
       "      <th>KIRK</th>\n",
       "      <th>MCCOY</th>\n",
       "    </tr>\n",
       "  </thead>\n",
       "  <tbody>\n",
       "    <tr>\n",
       "      <th>episode</th>\n",
       "      <td>0    -0.6641\n",
       "1    -0.9900\n",
       "2    -0.9457\n",
       "3    -0...</td>\n",
       "      <td>0     0.0000\n",
       "1     0.9957\n",
       "2     0.9965\n",
       "3     0...</td>\n",
       "      <td>0     0.0000\n",
       "1     0.7874\n",
       "2     0.9415\n",
       "3     0...</td>\n",
       "    </tr>\n",
       "    <tr>\n",
       "      <th>overall</th>\n",
       "      <td>-0.005304</td>\n",
       "      <td>0.224218</td>\n",
       "      <td>0.104833</td>\n",
       "    </tr>\n",
       "  </tbody>\n",
       "</table>\n",
       "</div>"
      ],
      "text/plain": [
       "                                                     SPOCK  \\\n",
       "episode  0    -0.6641\n",
       "1    -0.9900\n",
       "2    -0.9457\n",
       "3    -0...   \n",
       "overall                                          -0.005304   \n",
       "\n",
       "                                                      KIRK  \\\n",
       "episode  0     0.0000\n",
       "1     0.9957\n",
       "2     0.9965\n",
       "3     0...   \n",
       "overall                                           0.224218   \n",
       "\n",
       "                                                     MCCOY  \n",
       "episode  0     0.0000\n",
       "1     0.7874\n",
       "2     0.9415\n",
       "3     0...  \n",
       "overall                                           0.104833  "
      ]
     },
     "execution_count": 28,
     "metadata": {},
     "output_type": "execute_result"
    }
   ],
   "source": [
    "sentiment_df"
   ]
  },
  {
   "cell_type": "code",
   "execution_count": null,
   "metadata": {},
   "outputs": [
    {
     "data": {
      "text/html": [
       "<div>\n",
       "<style scoped>\n",
       "    .dataframe tbody tr th:only-of-type {\n",
       "        vertical-align: middle;\n",
       "    }\n",
       "\n",
       "    .dataframe tbody tr th {\n",
       "        vertical-align: top;\n",
       "    }\n",
       "\n",
       "    .dataframe thead th {\n",
       "        text-align: right;\n",
       "    }\n",
       "</style>\n",
       "<table border=\"1\" class=\"dataframe\">\n",
       "  <thead>\n",
       "    <tr style=\"text-align: right;\">\n",
       "      <th></th>\n",
       "      <th>episode</th>\n",
       "      <th>character</th>\n",
       "      <th>sentiment_score</th>\n",
       "    </tr>\n",
       "  </thead>\n",
       "  <tbody>\n",
       "    <tr>\n",
       "      <th>0</th>\n",
       "      <td>episode</td>\n",
       "      <td>SPOCK</td>\n",
       "      <td>0    -0.6641\n",
       "1    -0.9900\n",
       "2    -0.9457\n",
       "3    -0...</td>\n",
       "    </tr>\n",
       "    <tr>\n",
       "      <th>1</th>\n",
       "      <td>overall</td>\n",
       "      <td>SPOCK</td>\n",
       "      <td>-0.005304</td>\n",
       "    </tr>\n",
       "    <tr>\n",
       "      <th>2</th>\n",
       "      <td>episode</td>\n",
       "      <td>KIRK</td>\n",
       "      <td>0     0.0000\n",
       "1     0.9957\n",
       "2     0.9965\n",
       "3     0...</td>\n",
       "    </tr>\n",
       "    <tr>\n",
       "      <th>3</th>\n",
       "      <td>overall</td>\n",
       "      <td>KIRK</td>\n",
       "      <td>0.224218</td>\n",
       "    </tr>\n",
       "    <tr>\n",
       "      <th>4</th>\n",
       "      <td>episode</td>\n",
       "      <td>MCCOY</td>\n",
       "      <td>0     0.0000\n",
       "1     0.7874\n",
       "2     0.9415\n",
       "3     0...</td>\n",
       "    </tr>\n",
       "    <tr>\n",
       "      <th>5</th>\n",
       "      <td>overall</td>\n",
       "      <td>MCCOY</td>\n",
       "      <td>0.104833</td>\n",
       "    </tr>\n",
       "  </tbody>\n",
       "</table>\n",
       "</div>"
      ],
      "text/plain": [
       "   episode character                                    sentiment_score\n",
       "0  episode     SPOCK  0    -0.6641\n",
       "1    -0.9900\n",
       "2    -0.9457\n",
       "3    -0...\n",
       "1  overall     SPOCK                                          -0.005304\n",
       "2  episode      KIRK  0     0.0000\n",
       "1     0.9957\n",
       "2     0.9965\n",
       "3     0...\n",
       "3  overall      KIRK                                           0.224218\n",
       "4  episode     MCCOY  0     0.0000\n",
       "1     0.7874\n",
       "2     0.9415\n",
       "3     0...\n",
       "5  overall     MCCOY                                           0.104833"
      ]
     },
     "execution_count": 29,
     "metadata": {},
     "output_type": "execute_result"
    }
   ],
   "source": [
    "sentiment_df_reset = sentiment_df.reset_index()\n",
    "\n",
    "# Use the 'melt' function to reshape the DataFrame\n",
    "melted_sentiment_df = pd.melt(sentiment_df_reset, id_vars='index', var_name='character', value_name='sentiment_score')\n",
    "\n",
    "# Rename the columns for clarity\n",
    "melted_sentiment_df.columns = ['episode', 'character', 'sentiment_score']\n",
    "\n",
    "# Display the reformatted DataFrame\n",
    "melted_sentiment_df"
   ]
  },
  {
   "cell_type": "code",
   "execution_count": null,
   "metadata": {},
   "outputs": [
    {
     "data": {
      "text/html": [
       "<div>\n",
       "<style scoped>\n",
       "    .dataframe tbody tr th:only-of-type {\n",
       "        vertical-align: middle;\n",
       "    }\n",
       "\n",
       "    .dataframe tbody tr th {\n",
       "        vertical-align: top;\n",
       "    }\n",
       "\n",
       "    .dataframe thead th {\n",
       "        text-align: right;\n",
       "    }\n",
       "</style>\n",
       "<table border=\"1\" class=\"dataframe\">\n",
       "  <thead>\n",
       "    <tr style=\"text-align: right;\">\n",
       "      <th></th>\n",
       "      <th>character</th>\n",
       "      <th>episode</th>\n",
       "      <th>sentiment_score</th>\n",
       "    </tr>\n",
       "  </thead>\n",
       "  <tbody>\n",
       "    <tr>\n",
       "      <th>0</th>\n",
       "      <td>episode</td>\n",
       "      <td>SPOCK</td>\n",
       "      <td>0    -0.6641\n",
       "1    -0.9900\n",
       "2    -0.9457\n",
       "3    -0...</td>\n",
       "    </tr>\n",
       "    <tr>\n",
       "      <th>1</th>\n",
       "      <td>episode</td>\n",
       "      <td>KIRK</td>\n",
       "      <td>0     0.0000\n",
       "1     0.9957\n",
       "2     0.9965\n",
       "3     0...</td>\n",
       "    </tr>\n",
       "    <tr>\n",
       "      <th>2</th>\n",
       "      <td>episode</td>\n",
       "      <td>MCCOY</td>\n",
       "      <td>0     0.0000\n",
       "1     0.7874\n",
       "2     0.9415\n",
       "3     0...</td>\n",
       "    </tr>\n",
       "    <tr>\n",
       "      <th>3</th>\n",
       "      <td>overall</td>\n",
       "      <td>SPOCK</td>\n",
       "      <td>-0.005304</td>\n",
       "    </tr>\n",
       "    <tr>\n",
       "      <th>4</th>\n",
       "      <td>overall</td>\n",
       "      <td>KIRK</td>\n",
       "      <td>0.224218</td>\n",
       "    </tr>\n",
       "    <tr>\n",
       "      <th>5</th>\n",
       "      <td>overall</td>\n",
       "      <td>MCCOY</td>\n",
       "      <td>0.104833</td>\n",
       "    </tr>\n",
       "  </tbody>\n",
       "</table>\n",
       "</div>"
      ],
      "text/plain": [
       "  character episode                                    sentiment_score\n",
       "0   episode   SPOCK  0    -0.6641\n",
       "1    -0.9900\n",
       "2    -0.9457\n",
       "3    -0...\n",
       "1   episode    KIRK  0     0.0000\n",
       "1     0.9957\n",
       "2     0.9965\n",
       "3     0...\n",
       "2   episode   MCCOY  0     0.0000\n",
       "1     0.7874\n",
       "2     0.9415\n",
       "3     0...\n",
       "3   overall   SPOCK                                          -0.005304\n",
       "4   overall    KIRK                                           0.224218\n",
       "5   overall   MCCOY                                           0.104833"
      ]
     },
     "execution_count": 31,
     "metadata": {},
     "output_type": "execute_result"
    }
   ],
   "source": [
    "# Reset the index to make 'character' a regular column\n",
    "sentiment_df_reset = sentiment_df.reset_index()\n",
    "\n",
    "# Use the 'stack' function to unstack the DataFrame\n",
    "unstacked_sentiment_df = sentiment_df_reset.set_index('index').stack().reset_index()\n",
    "\n",
    "# Rename the columns for clarity\n",
    "unstacked_sentiment_df.columns = ['character', 'episode', 'sentiment_score']\n",
    "\n",
    "# Display the reformatted DataFrame\n",
    "unstacked_sentiment_df"
   ]
  },
  {
   "cell_type": "code",
   "execution_count": null,
   "metadata": {},
   "outputs": [
    {
     "data": {
      "text/html": [
       "<div>\n",
       "<style scoped>\n",
       "    .dataframe tbody tr th:only-of-type {\n",
       "        vertical-align: middle;\n",
       "    }\n",
       "\n",
       "    .dataframe tbody tr th {\n",
       "        vertical-align: top;\n",
       "    }\n",
       "\n",
       "    .dataframe thead th {\n",
       "        text-align: right;\n",
       "    }\n",
       "</style>\n",
       "<table border=\"1\" class=\"dataframe\">\n",
       "  <thead>\n",
       "    <tr style=\"text-align: right;\">\n",
       "      <th></th>\n",
       "      <th>episode</th>\n",
       "      <th>character</th>\n",
       "      <th>sentiment_score</th>\n",
       "    </tr>\n",
       "  </thead>\n",
       "  <tbody>\n",
       "    <tr>\n",
       "      <th>0</th>\n",
       "      <td>episode</td>\n",
       "      <td>SPOCK</td>\n",
       "      <td>0    -0.6641\n",
       "1    -0.9900\n",
       "2    -0.9457\n",
       "3    -0...</td>\n",
       "    </tr>\n",
       "    <tr>\n",
       "      <th>1</th>\n",
       "      <td>overall</td>\n",
       "      <td>SPOCK</td>\n",
       "      <td>-0.005304</td>\n",
       "    </tr>\n",
       "    <tr>\n",
       "      <th>2</th>\n",
       "      <td>episode</td>\n",
       "      <td>KIRK</td>\n",
       "      <td>0     0.0000\n",
       "1     0.9957\n",
       "2     0.9965\n",
       "3     0...</td>\n",
       "    </tr>\n",
       "    <tr>\n",
       "      <th>3</th>\n",
       "      <td>overall</td>\n",
       "      <td>KIRK</td>\n",
       "      <td>0.224218</td>\n",
       "    </tr>\n",
       "    <tr>\n",
       "      <th>4</th>\n",
       "      <td>episode</td>\n",
       "      <td>MCCOY</td>\n",
       "      <td>0     0.0000\n",
       "1     0.7874\n",
       "2     0.9415\n",
       "3     0...</td>\n",
       "    </tr>\n",
       "    <tr>\n",
       "      <th>5</th>\n",
       "      <td>overall</td>\n",
       "      <td>MCCOY</td>\n",
       "      <td>0.104833</td>\n",
       "    </tr>\n",
       "  </tbody>\n",
       "</table>\n",
       "</div>"
      ],
      "text/plain": [
       "   episode character                                    sentiment_score\n",
       "0  episode     SPOCK  0    -0.6641\n",
       "1    -0.9900\n",
       "2    -0.9457\n",
       "3    -0...\n",
       "1  overall     SPOCK                                          -0.005304\n",
       "2  episode      KIRK  0     0.0000\n",
       "1     0.9957\n",
       "2     0.9965\n",
       "3     0...\n",
       "3  overall      KIRK                                           0.224218\n",
       "4  episode     MCCOY  0     0.0000\n",
       "1     0.7874\n",
       "2     0.9415\n",
       "3     0...\n",
       "5  overall     MCCOY                                           0.104833"
      ]
     },
     "execution_count": 33,
     "metadata": {},
     "output_type": "execute_result"
    }
   ],
   "source": [
    "# Create a new DataFrame where each row represents an episode\n",
    "episode_sentiment_df = sentiment_df.copy()\n",
    "episode_sentiment_df.reset_index(inplace=True)\n",
    "\n",
    "# Melt the DataFrame to have sentiment scores for each episode in separate rows\n",
    "melted_episode_sentiment_df = episode_sentiment_df.melt(id_vars='index', var_name='character', value_name='sentiment_score')\n",
    "melted_episode_sentiment_df.columns = ['episode', 'character', 'sentiment_score']\n",
    "\n",
    "# Display the reformatted DataFrame\n",
    "melted_episode_sentiment_df"
   ]
  },
  {
   "cell_type": "code",
   "execution_count": null,
   "metadata": {},
   "outputs": [
    {
     "ename": "AttributeError",
     "evalue": "'list' object has no attribute 'encode'",
     "output_type": "error",
     "traceback": [
      "\u001b[0;31m---------------------------------------------------------------------------\u001b[0m",
      "\u001b[0;31mAttributeError\u001b[0m                            Traceback (most recent call last)",
      "Cell \u001b[0;32mIn[20], line 11\u001b[0m\n\u001b[1;32m      8\u001b[0m character_lines \u001b[39m=\u001b[39m episode_lines_by_character[char]\n\u001b[1;32m     10\u001b[0m \u001b[39m# Perform sentiment analysis on the character's lines\u001b[39;00m\n\u001b[0;32m---> 11\u001b[0m sentiment \u001b[39m=\u001b[39m sia\u001b[39m.\u001b[39;49mpolarity_scores(character_lines)\n\u001b[1;32m     13\u001b[0m \u001b[39m# Append sentiment scores for the current episode\u001b[39;00m\n\u001b[1;32m     14\u001b[0m sentiment_scores[char][\u001b[39m'\u001b[39m\u001b[39mepisode\u001b[39m\u001b[39m'\u001b[39m]\u001b[39m.\u001b[39mappend(sentiment[\u001b[39m'\u001b[39m\u001b[39mcompound\u001b[39m\u001b[39m'\u001b[39m])\n",
      "File \u001b[0;32m/Library/Frameworks/Python.framework/Versions/3.11/lib/python3.11/site-packages/nltk/sentiment/vader.py:366\u001b[0m, in \u001b[0;36mSentimentIntensityAnalyzer.polarity_scores\u001b[0;34m(self, text)\u001b[0m\n\u001b[1;32m    355\u001b[0m \u001b[39m\u001b[39m\u001b[39m\"\"\"\u001b[39;00m\n\u001b[1;32m    356\u001b[0m \u001b[39mReturn a float for sentiment strength based on the input text.\u001b[39;00m\n\u001b[1;32m    357\u001b[0m \u001b[39mPositive values are positive valence, negative value are negative\u001b[39;00m\n\u001b[0;32m   (...)\u001b[0m\n\u001b[1;32m    363\u001b[0m \u001b[39m    matched as if it was a normal word in the sentence.\u001b[39;00m\n\u001b[1;32m    364\u001b[0m \u001b[39m\"\"\"\u001b[39;00m\n\u001b[1;32m    365\u001b[0m \u001b[39m# text, words_and_emoticons, is_cap_diff = self.preprocess(text)\u001b[39;00m\n\u001b[0;32m--> 366\u001b[0m sentitext \u001b[39m=\u001b[39m SentiText(\n\u001b[1;32m    367\u001b[0m     text, \u001b[39mself\u001b[39;49m\u001b[39m.\u001b[39;49mconstants\u001b[39m.\u001b[39;49mPUNC_LIST, \u001b[39mself\u001b[39;49m\u001b[39m.\u001b[39;49mconstants\u001b[39m.\u001b[39;49mREGEX_REMOVE_PUNCTUATION\n\u001b[1;32m    368\u001b[0m )\n\u001b[1;32m    369\u001b[0m sentiments \u001b[39m=\u001b[39m []\n\u001b[1;32m    370\u001b[0m words_and_emoticons \u001b[39m=\u001b[39m sentitext\u001b[39m.\u001b[39mwords_and_emoticons\n",
      "File \u001b[0;32m/Library/Frameworks/Python.framework/Versions/3.11/lib/python3.11/site-packages/nltk/sentiment/vader.py:270\u001b[0m, in \u001b[0;36mSentiText.__init__\u001b[0;34m(self, text, punc_list, regex_remove_punctuation)\u001b[0m\n\u001b[1;32m    268\u001b[0m \u001b[39mdef\u001b[39;00m \u001b[39m__init__\u001b[39m(\u001b[39mself\u001b[39m, text, punc_list, regex_remove_punctuation):\n\u001b[1;32m    269\u001b[0m     \u001b[39mif\u001b[39;00m \u001b[39mnot\u001b[39;00m \u001b[39misinstance\u001b[39m(text, \u001b[39mstr\u001b[39m):\n\u001b[0;32m--> 270\u001b[0m         text \u001b[39m=\u001b[39m \u001b[39mstr\u001b[39m(text\u001b[39m.\u001b[39;49mencode(\u001b[39m\"\u001b[39m\u001b[39mutf-8\u001b[39m\u001b[39m\"\u001b[39m))\n\u001b[1;32m    271\u001b[0m     \u001b[39mself\u001b[39m\u001b[39m.\u001b[39mtext \u001b[39m=\u001b[39m text\n\u001b[1;32m    272\u001b[0m     \u001b[39mself\u001b[39m\u001b[39m.\u001b[39mPUNC_LIST \u001b[39m=\u001b[39m punc_list\n",
      "\u001b[0;31mAttributeError\u001b[0m: 'list' object has no attribute 'encode'"
     ]
    }
   ],
   "source": [
    "# Iterate through episodes and lines grouped by character\n",
    "for episode_lines_by_character in asdf:\n",
    "    # Iterate through the characters of interest (Spock, Kirk, McCoy)\n",
    "    for char in characters_of_interest:\n",
    "        # Check if the character is in the lines for the current episode\n",
    "        if char in episode_lines_by_character:\n",
    "            # Get the lines spoken by the character (already combined into a single string)\n",
    "            character_lines = episode_lines_by_character[char]\n",
    "            \n",
    "            # Perform sentiment analysis on the character's lines\n",
    "            sentiment = sia.polarity_scores(character_lines)\n",
    "            \n",
    "            # Append sentiment scores for the current episode\n",
    "            sentiment_scores[char]['episode'].append(sentiment['compound'])\n"
   ]
  },
  {
   "cell_type": "code",
   "execution_count": null,
   "metadata": {},
   "outputs": [
    {
     "ename": "TypeError",
     "evalue": "unhashable type: 'slice'",
     "output_type": "error",
     "traceback": [
      "\u001b[0;31m---------------------------------------------------------------------------\u001b[0m",
      "\u001b[0;31mTypeError\u001b[0m                                 Traceback (most recent call last)",
      "Cell \u001b[0;32mIn[10], line 1\u001b[0m\n\u001b[0;32m----> 1\u001b[0m \u001b[39mfor\u001b[39;00m episode \u001b[39min\u001b[39;00m data[:\u001b[39m5\u001b[39;49m]:  \u001b[39m# Print the first 5 episodes as an example\u001b[39;00m\n\u001b[1;32m      2\u001b[0m     \u001b[39mprint\u001b[39m(episode)\n",
      "\u001b[0;31mTypeError\u001b[0m: unhashable type: 'slice'"
     ]
    }
   ],
   "source": [
    "for episode in data[:5]:  # Print the first 5 episodes as an example\n",
    "    print(episode)"
   ]
  },
  {
   "cell_type": "code",
   "execution_count": null,
   "metadata": {},
   "outputs": [
    {
     "ename": "TypeError",
     "evalue": "string indices must be integers, not 'str'",
     "output_type": "error",
     "traceback": [
      "\u001b[0;31m---------------------------------------------------------------------------\u001b[0m",
      "\u001b[0;31mTypeError\u001b[0m                                 Traceback (most recent call last)",
      "Cell \u001b[0;32mIn[8], line 3\u001b[0m\n\u001b[1;32m      1\u001b[0m \u001b[39m# Process each line of dialogue\u001b[39;00m\n\u001b[1;32m      2\u001b[0m \u001b[39mfor\u001b[39;00m episode \u001b[39min\u001b[39;00m data:\n\u001b[0;32m----> 3\u001b[0m     \u001b[39mfor\u001b[39;00m line \u001b[39min\u001b[39;00m episode[\u001b[39m'\u001b[39;49m\u001b[39mlines\u001b[39;49m\u001b[39m'\u001b[39;49m]:\n\u001b[1;32m      4\u001b[0m         character \u001b[39m=\u001b[39m line[\u001b[39m'\u001b[39m\u001b[39mcharacter\u001b[39m\u001b[39m'\u001b[39m]\n\u001b[1;32m      5\u001b[0m         text \u001b[39m=\u001b[39m line[\u001b[39m'\u001b[39m\u001b[39mtext\u001b[39m\u001b[39m'\u001b[39m]\n",
      "\u001b[0;31mTypeError\u001b[0m: string indices must be integers, not 'str'"
     ]
    }
   ],
   "source": [
    "# Process each line of dialogue\n",
    "for episode in data:\n",
    "    for line in episode['lines']:\n",
    "        character = line['character']\n",
    "        text = line['text']\n",
    "        sentiment = sia.polarity_scores(text)\n",
    "        \n",
    "        if character == 'Spock':\n",
    "            spock_sentiment['episode'].append(sentiment['compound'])\n",
    "        elif character == 'Kirk':\n",
    "            kirk_sentiment['episode'].append(sentiment['compound'])\n",
    "        elif character == 'Bones':\n",
    "            bones_sentiment['episode'].append(sentiment['compound'])"
   ]
  }
 ],
 "metadata": {
  "kernelspec": {
   "display_name": "Python 3",
   "language": "python",
   "name": "python3"
  },
  "language_info": {
   "codemirror_mode": {
    "name": "ipython",
    "version": 3
   },
   "file_extension": ".py",
   "mimetype": "text/x-python",
   "name": "python",
   "nbconvert_exporter": "python",
   "pygments_lexer": "ipython3",
   "version": "3.11.2"
  },
  "orig_nbformat": 4
 },
 "nbformat": 4,
 "nbformat_minor": 2
}
